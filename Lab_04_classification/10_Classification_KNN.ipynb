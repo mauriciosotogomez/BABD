{
 "cells": [
  {
   "cell_type": "markdown",
   "metadata": {},
   "source": [
    "# Cassification: k-Nearest Neighbors"
   ]
  },
  {
   "cell_type": "markdown",
   "metadata": {},
   "source": [
    "## Data import"
   ]
  },
  {
   "cell_type": "code",
   "execution_count": 2,
   "metadata": {},
   "outputs": [],
   "source": [
    "import pandas as pd\n",
    "df = pd.read_csv('diabetes.csv')\n",
    "#any further infos on the diabetes dataset:\n",
    "#https://www.kaggle.com/uciml/pima-indians-diabetes-database"
   ]
  },
  {
   "cell_type": "markdown",
   "metadata": {},
   "source": [
    "The datasets consist of several medical predictor (independent) variables and one target (dependent) variable, Outcome. Independent variables include the number of pregnancies the patient has had, their BMI, insulin level, age, and so on.\n",
    "\n",
    "- Pregnancies:  Number of times pregnant\n",
    "- Glucose: Plasma glucose concentration a 2 hours in an oral glucose tolerance test\n",
    "- BloodPressure: Diastolic blood pressure (mm Hg)\n",
    "- SkinThickness: Triceps skin fold thickness (mm)\n",
    "- Insulin: 2-Hour serum insulin (mu U/ml)\n",
    "- BMI: Body mass index (weight in kg/(height in m)^2)\n",
    "- DiabetesPedigreeFunction: Diabetes pedigree function\n",
    "- Age: (years)\n",
    "- Outcome\n"
   ]
  },
  {
   "cell_type": "code",
   "execution_count": 3,
   "metadata": {},
   "outputs": [
    {
     "data": {
      "text/html": [
       "<div>\n",
       "<style scoped>\n",
       "    .dataframe tbody tr th:only-of-type {\n",
       "        vertical-align: middle;\n",
       "    }\n",
       "\n",
       "    .dataframe tbody tr th {\n",
       "        vertical-align: top;\n",
       "    }\n",
       "\n",
       "    .dataframe thead th {\n",
       "        text-align: right;\n",
       "    }\n",
       "</style>\n",
       "<table border=\"1\" class=\"dataframe\">\n",
       "  <thead>\n",
       "    <tr style=\"text-align: right;\">\n",
       "      <th></th>\n",
       "      <th>timespreg</th>\n",
       "      <th>gluctol</th>\n",
       "      <th>diaspb</th>\n",
       "      <th>triceps</th>\n",
       "      <th>insulin</th>\n",
       "      <th>massindex</th>\n",
       "      <th>pedigree</th>\n",
       "      <th>age</th>\n",
       "      <th>target</th>\n",
       "    </tr>\n",
       "  </thead>\n",
       "  <tbody>\n",
       "    <tr>\n",
       "      <th>425</th>\n",
       "      <td>4</td>\n",
       "      <td>184</td>\n",
       "      <td>78</td>\n",
       "      <td>39</td>\n",
       "      <td>277</td>\n",
       "      <td>37.0</td>\n",
       "      <td>0.264</td>\n",
       "      <td>31</td>\n",
       "      <td>1</td>\n",
       "    </tr>\n",
       "    <tr>\n",
       "      <th>470</th>\n",
       "      <td>1</td>\n",
       "      <td>144</td>\n",
       "      <td>82</td>\n",
       "      <td>40</td>\n",
       "      <td>0</td>\n",
       "      <td>41.3</td>\n",
       "      <td>0.607</td>\n",
       "      <td>28</td>\n",
       "      <td>0</td>\n",
       "    </tr>\n",
       "    <tr>\n",
       "      <th>715</th>\n",
       "      <td>7</td>\n",
       "      <td>187</td>\n",
       "      <td>50</td>\n",
       "      <td>33</td>\n",
       "      <td>392</td>\n",
       "      <td>33.9</td>\n",
       "      <td>0.826</td>\n",
       "      <td>34</td>\n",
       "      <td>1</td>\n",
       "    </tr>\n",
       "    <tr>\n",
       "      <th>359</th>\n",
       "      <td>1</td>\n",
       "      <td>196</td>\n",
       "      <td>76</td>\n",
       "      <td>36</td>\n",
       "      <td>249</td>\n",
       "      <td>36.5</td>\n",
       "      <td>0.875</td>\n",
       "      <td>29</td>\n",
       "      <td>1</td>\n",
       "    </tr>\n",
       "    <tr>\n",
       "      <th>654</th>\n",
       "      <td>1</td>\n",
       "      <td>106</td>\n",
       "      <td>70</td>\n",
       "      <td>28</td>\n",
       "      <td>135</td>\n",
       "      <td>34.2</td>\n",
       "      <td>0.142</td>\n",
       "      <td>22</td>\n",
       "      <td>0</td>\n",
       "    </tr>\n",
       "  </tbody>\n",
       "</table>\n",
       "</div>"
      ],
      "text/plain": [
       "     timespreg  gluctol  diaspb  triceps  insulin  massindex  pedigree  age  \\\n",
       "425          4      184      78       39      277       37.0     0.264   31   \n",
       "470          1      144      82       40        0       41.3     0.607   28   \n",
       "715          7      187      50       33      392       33.9     0.826   34   \n",
       "359          1      196      76       36      249       36.5     0.875   29   \n",
       "654          1      106      70       28      135       34.2     0.142   22   \n",
       "\n",
       "     target  \n",
       "425       1  \n",
       "470       0  \n",
       "715       1  \n",
       "359       1  \n",
       "654       0  "
      ]
     },
     "execution_count": 3,
     "metadata": {},
     "output_type": "execute_result"
    }
   ],
   "source": [
    "df.sample(5)"
   ]
  },
  {
   "cell_type": "markdown",
   "metadata": {},
   "source": [
    "## Exploratory Data Analysis"
   ]
  },
  {
   "cell_type": "code",
   "execution_count": 4,
   "metadata": {},
   "outputs": [
    {
     "name": "stdout",
     "output_type": "stream",
     "text": [
      "<class 'pandas.core.frame.DataFrame'>\n",
      "RangeIndex: 768 entries, 0 to 767\n",
      "Data columns (total 9 columns):\n",
      " #   Column     Non-Null Count  Dtype  \n",
      "---  ------     --------------  -----  \n",
      " 0   timespreg  768 non-null    int64  \n",
      " 1   gluctol    768 non-null    int64  \n",
      " 2   diaspb     768 non-null    int64  \n",
      " 3   triceps    768 non-null    int64  \n",
      " 4   insulin    768 non-null    int64  \n",
      " 5   massindex  768 non-null    float64\n",
      " 6   pedigree   768 non-null    float64\n",
      " 7   age        768 non-null    int64  \n",
      " 8   target     768 non-null    int64  \n",
      "dtypes: float64(2), int64(7)\n",
      "memory usage: 54.1 KB\n"
     ]
    }
   ],
   "source": [
    "#gives information about the data types,columns, null value counts, memory usage etc\n",
    "df.info(verbose=True)"
   ]
  },
  {
   "cell_type": "code",
   "execution_count": 5,
   "metadata": {},
   "outputs": [
    {
     "data": {
      "text/plain": [
       "timespreg    0\n",
       "gluctol      0\n",
       "diaspb       0\n",
       "triceps      0\n",
       "insulin      0\n",
       "massindex    0\n",
       "pedigree     0\n",
       "age          0\n",
       "target       0\n",
       "dtype: int64"
      ]
     },
     "execution_count": 5,
     "metadata": {},
     "output_type": "execute_result"
    }
   ],
   "source": [
    "df.isna().sum()"
   ]
  },
  {
   "cell_type": "code",
   "execution_count": 6,
   "metadata": {},
   "outputs": [
    {
     "data": {
      "text/html": [
       "<div>\n",
       "<style scoped>\n",
       "    .dataframe tbody tr th:only-of-type {\n",
       "        vertical-align: middle;\n",
       "    }\n",
       "\n",
       "    .dataframe tbody tr th {\n",
       "        vertical-align: top;\n",
       "    }\n",
       "\n",
       "    .dataframe thead th {\n",
       "        text-align: right;\n",
       "    }\n",
       "</style>\n",
       "<table border=\"1\" class=\"dataframe\">\n",
       "  <thead>\n",
       "    <tr style=\"text-align: right;\">\n",
       "      <th></th>\n",
       "      <th>timespreg</th>\n",
       "      <th>gluctol</th>\n",
       "      <th>diaspb</th>\n",
       "      <th>triceps</th>\n",
       "      <th>insulin</th>\n",
       "      <th>massindex</th>\n",
       "      <th>pedigree</th>\n",
       "      <th>age</th>\n",
       "      <th>target</th>\n",
       "    </tr>\n",
       "  </thead>\n",
       "  <tbody>\n",
       "    <tr>\n",
       "      <th>count</th>\n",
       "      <td>768.000000</td>\n",
       "      <td>768.000000</td>\n",
       "      <td>768.000000</td>\n",
       "      <td>768.000000</td>\n",
       "      <td>768.000000</td>\n",
       "      <td>768.000000</td>\n",
       "      <td>768.000000</td>\n",
       "      <td>768.000000</td>\n",
       "      <td>768.000000</td>\n",
       "    </tr>\n",
       "    <tr>\n",
       "      <th>mean</th>\n",
       "      <td>3.845052</td>\n",
       "      <td>120.894531</td>\n",
       "      <td>69.105469</td>\n",
       "      <td>20.536458</td>\n",
       "      <td>79.799479</td>\n",
       "      <td>31.992578</td>\n",
       "      <td>0.471876</td>\n",
       "      <td>33.240885</td>\n",
       "      <td>0.348958</td>\n",
       "    </tr>\n",
       "    <tr>\n",
       "      <th>std</th>\n",
       "      <td>3.369578</td>\n",
       "      <td>31.972618</td>\n",
       "      <td>19.355807</td>\n",
       "      <td>15.952218</td>\n",
       "      <td>115.244002</td>\n",
       "      <td>7.884160</td>\n",
       "      <td>0.331329</td>\n",
       "      <td>11.760232</td>\n",
       "      <td>0.476951</td>\n",
       "    </tr>\n",
       "    <tr>\n",
       "      <th>min</th>\n",
       "      <td>0.000000</td>\n",
       "      <td>0.000000</td>\n",
       "      <td>0.000000</td>\n",
       "      <td>0.000000</td>\n",
       "      <td>0.000000</td>\n",
       "      <td>0.000000</td>\n",
       "      <td>0.078000</td>\n",
       "      <td>21.000000</td>\n",
       "      <td>0.000000</td>\n",
       "    </tr>\n",
       "    <tr>\n",
       "      <th>25%</th>\n",
       "      <td>1.000000</td>\n",
       "      <td>99.000000</td>\n",
       "      <td>62.000000</td>\n",
       "      <td>0.000000</td>\n",
       "      <td>0.000000</td>\n",
       "      <td>27.300000</td>\n",
       "      <td>0.243750</td>\n",
       "      <td>24.000000</td>\n",
       "      <td>0.000000</td>\n",
       "    </tr>\n",
       "    <tr>\n",
       "      <th>50%</th>\n",
       "      <td>3.000000</td>\n",
       "      <td>117.000000</td>\n",
       "      <td>72.000000</td>\n",
       "      <td>23.000000</td>\n",
       "      <td>30.500000</td>\n",
       "      <td>32.000000</td>\n",
       "      <td>0.372500</td>\n",
       "      <td>29.000000</td>\n",
       "      <td>0.000000</td>\n",
       "    </tr>\n",
       "    <tr>\n",
       "      <th>75%</th>\n",
       "      <td>6.000000</td>\n",
       "      <td>140.250000</td>\n",
       "      <td>80.000000</td>\n",
       "      <td>32.000000</td>\n",
       "      <td>127.250000</td>\n",
       "      <td>36.600000</td>\n",
       "      <td>0.626250</td>\n",
       "      <td>41.000000</td>\n",
       "      <td>1.000000</td>\n",
       "    </tr>\n",
       "    <tr>\n",
       "      <th>max</th>\n",
       "      <td>17.000000</td>\n",
       "      <td>199.000000</td>\n",
       "      <td>122.000000</td>\n",
       "      <td>99.000000</td>\n",
       "      <td>846.000000</td>\n",
       "      <td>67.100000</td>\n",
       "      <td>2.420000</td>\n",
       "      <td>81.000000</td>\n",
       "      <td>1.000000</td>\n",
       "    </tr>\n",
       "  </tbody>\n",
       "</table>\n",
       "</div>"
      ],
      "text/plain": [
       "        timespreg     gluctol      diaspb     triceps     insulin   massindex  \\\n",
       "count  768.000000  768.000000  768.000000  768.000000  768.000000  768.000000   \n",
       "mean     3.845052  120.894531   69.105469   20.536458   79.799479   31.992578   \n",
       "std      3.369578   31.972618   19.355807   15.952218  115.244002    7.884160   \n",
       "min      0.000000    0.000000    0.000000    0.000000    0.000000    0.000000   \n",
       "25%      1.000000   99.000000   62.000000    0.000000    0.000000   27.300000   \n",
       "50%      3.000000  117.000000   72.000000   23.000000   30.500000   32.000000   \n",
       "75%      6.000000  140.250000   80.000000   32.000000  127.250000   36.600000   \n",
       "max     17.000000  199.000000  122.000000   99.000000  846.000000   67.100000   \n",
       "\n",
       "         pedigree         age      target  \n",
       "count  768.000000  768.000000  768.000000  \n",
       "mean     0.471876   33.240885    0.348958  \n",
       "std      0.331329   11.760232    0.476951  \n",
       "min      0.078000   21.000000    0.000000  \n",
       "25%      0.243750   24.000000    0.000000  \n",
       "50%      0.372500   29.000000    0.000000  \n",
       "75%      0.626250   41.000000    1.000000  \n",
       "max      2.420000   81.000000    1.000000  "
      ]
     },
     "execution_count": 6,
     "metadata": {},
     "output_type": "execute_result"
    }
   ],
   "source": [
    "#basic statistic details about the data\n",
    "df.describe(include=\"all\")"
   ]
  },
  {
   "cell_type": "code",
   "execution_count": 7,
   "metadata": {},
   "outputs": [
    {
     "data": {
      "text/plain": [
       "<matplotlib.axes._subplots.AxesSubplot at 0x7fa5b9dd53d0>"
      ]
     },
     "execution_count": 7,
     "metadata": {},
     "output_type": "execute_result"
    },
    {
     "data": {
      "image/png": "[encoded data removed]",
      "text/plain": [
       "<Figure size 432x288 with 1 Axes>"
      ]
     },
     "metadata": {
      "needs_background": "light"
     },
     "output_type": "display_data"
    }
   ],
   "source": [
    "%matplotlib inline\n",
    "df.boxplot()"
   ]
  },
  {
   "cell_type": "code",
   "execution_count": 8,
   "metadata": {},
   "outputs": [
    {
     "data": {
      "text/plain": [
       "array([[<matplotlib.axes._subplots.AxesSubplot object at 0x7fa5b8be8250>,\n",
       "        <matplotlib.axes._subplots.AxesSubplot object at 0x7fa5b8bc4710>,\n",
       "        <matplotlib.axes._subplots.AxesSubplot object at 0x7fa5b8b74f10>],\n",
       "       [<matplotlib.axes._subplots.AxesSubplot object at 0x7fa5b8b36750>,\n",
       "        <matplotlib.axes._subplots.AxesSubplot object at 0x7fa5b8aeaf50>,\n",
       "        <matplotlib.axes._subplots.AxesSubplot object at 0x7fa5b8aac790>],\n",
       "       [<matplotlib.axes._subplots.AxesSubplot object at 0x7fa5b8a5ee90>,\n",
       "        <matplotlib.axes._subplots.AxesSubplot object at 0x7fa5b8a1f6d0>,\n",
       "        <matplotlib.axes._subplots.AxesSubplot object at 0x7fa5b8a2a250>]],\n",
       "      dtype=object)"
      ]
     },
     "execution_count": 8,
     "metadata": {},
     "output_type": "execute_result"
    },
    {
     "data": {
      "image/png": "[encoded data removed]",
      "text/plain": [
       "<Figure size 432x288 with 9 Axes>"
      ]
     },
     "metadata": {
      "needs_background": "light"
     },
     "output_type": "display_data"
    }
   ],
   "source": [
    "df.hist()"
   ]
  },
  {
   "cell_type": "code",
   "execution_count": 44,
   "metadata": {},
   "outputs": [
    {
     "name": "stdout",
     "output_type": "stream",
     "text": [
      "target\n",
      "0    500\n",
      "1    268\n",
      "dtype: int64\n"
     ]
    },
    {
     "data": {
      "text/plain": [
       "<matplotlib.axes._subplots.AxesSubplot at 0x7fa5a8256210>"
      ]
     },
     "execution_count": 44,
     "metadata": {},
     "output_type": "execute_result"
    },
    {
     "data": {
      "image/png": "[encoded data removed]",
      "text/plain": [
       "<Figure size 432x288 with 1 Axes>"
      ]
     },
     "metadata": {
      "needs_background": "light"
     },
     "output_type": "display_data"
    }
   ],
   "source": [
    "#Print class freq. through pandas: we group the data by the column target and we count the number of rows \n",
    "target_dist=df.groupby('target').size()\n",
    "print(target_dist)\n",
    "\n",
    "#some imports to plot \n",
    "import matplotlib.pyplot as plt\n",
    "import seaborn as sns\n",
    "%matplotlib inline\n",
    "\n",
    "#Visualize Class Counts\n",
    "target_dist.plot.bar(x='',y='',title='Distribution of target')"
   ]
  },
  {
   "cell_type": "markdown",
   "metadata": {},
   "source": [
    "## Data Preparation "
   ]
  },
  {
   "cell_type": "markdown",
   "metadata": {},
   "source": [
    "### Separate Train/Test sets"
   ]
  },
  {
   "cell_type": "code",
   "execution_count": 45,
   "metadata": {},
   "outputs": [],
   "source": [
    "#Separate X and y (explanatory variables and target variable)\n",
    "X = df.iloc[:,0:-1]\n",
    "y = df.iloc[:,-1] #[-1]]\n",
    "\n",
    "#X.head()\n",
    "#y.head()"
   ]
  },
  {
   "cell_type": "code",
   "execution_count": 46,
   "metadata": {},
   "outputs": [
    {
     "name": "stdout",
     "output_type": "stream",
     "text": [
      "(537, 8) (231, 8)\n"
     ]
    }
   ],
   "source": [
    "from sklearn.model_selection import train_test_split\n",
    "\n",
    "#SPLIT DATA INTO TRAIN AND TEST SET\n",
    "X_train, X_test, y_train, y_test = train_test_split(X, y, \n",
    "                                                    test_size =0.30, #by default is 75%-25%\n",
    "                                                    #shuffle is set True by default,\n",
    "                                                    stratify=y,\n",
    "                                                    random_state= 123\n",
    "                                                   ) #fix random seed for replicability\n",
    "\n",
    "print(X_train.shape,X_test.shape)"
   ]
  },
  {
   "cell_type": "code",
   "execution_count": 47,
   "metadata": {},
   "outputs": [
    {
     "data": {
      "image/png": "[encoded data removed]",
      "text/plain": [
       "<Figure size 432x288 with 1 Axes>"
      ]
     },
     "metadata": {
      "needs_background": "light"
     },
     "output_type": "display_data"
    }
   ],
   "source": [
    "y_train_dist=y_train.groupby(y_train.iloc[:]).size()/y_train.size\n",
    "y_test_dist=y_test.groupby(y_test.iloc[:]).size()/y_test.size\n",
    "\n",
    "train_test_dist = pd.DataFrame({'train': y_train_dist, 'test': y_test_dist})\n",
    "ax = train_test_dist.plot.bar(rot=0) # rotation of the labels"
   ]
  },
  {
   "cell_type": "code",
   "execution_count": 48,
   "metadata": {},
   "outputs": [
    {
     "data": {
      "image/png": "[encoded data removed]",
      "text/plain": [
       "<Figure size 432x288 with 1 Axes>"
      ]
     },
     "metadata": {
      "needs_background": "light"
     },
     "output_type": "display_data"
    }
   ],
   "source": [
    "import matplotlib.pyplot as plt\n",
    "\n",
    "x = X_train.iloc[:,6]\n",
    "y = X_train.iloc[:,7]\n",
    "\n",
    "plt.scatter(x, y,alpha=0.2,c=y_train )\n",
    "plt.show()"
   ]
  },
  {
   "cell_type": "markdown",
   "metadata": {},
   "source": [
    "# A first model: K-Nearest Neighbor\n",
    "\n",
    "The K-Nearest Neighbor classification model simply assign to new observation the most common value among its k-nearest neighbors\n",
    "\n",
    "![KNN](KnnClassification.svg)"
   ]
  },
  {
   "cell_type": "code",
   "execution_count": 49,
   "metadata": {},
   "outputs": [],
   "source": [
    "#DEFINE YOUR CLASSIFIER and THE PARAMETERS GRID\n",
    "from sklearn.neighbors import KNeighborsClassifier\n",
    "import numpy as np\n",
    "\n",
    "#Create KNN Classifier\n",
    "knn3 = KNeighborsClassifier(n_neighbors=3)\n",
    "\n",
    "#Train the model using the training sets\n",
    "knn3.fit(X_train, y_train)\n",
    "\n",
    "#Predict the response for test dataset\n",
    "y_pred = knn3.predict(X_test)\n"
   ]
  },
  {
   "cell_type": "code",
   "execution_count": 50,
   "metadata": {},
   "outputs": [
    {
     "data": {
      "text/plain": [
       "array([0, 0, 0, 0, 0, 0, 0, 0, 0, 0, 1, 0, 1, 0, 0, 1, 0, 0, 0, 0, 1, 0,\n",
       "       1, 1, 1, 0, 0, 0, 1, 1, 0, 1, 0, 0, 1, 0, 0, 1, 1, 1, 1, 0, 0, 0,\n",
       "       1, 0, 0, 0, 0, 0, 1, 1, 1, 0, 1, 0, 0, 0, 0, 0, 1, 0, 0, 0, 0, 0,\n",
       "       1, 0, 1, 1, 0, 1, 0, 0, 1, 0, 0, 1, 0, 0, 1, 0, 0, 1, 1, 0, 0, 1,\n",
       "       0, 0, 0, 0, 0, 1, 0, 0, 0, 1, 0, 0, 0, 0, 1, 1, 1, 0, 0, 1, 0, 0,\n",
       "       0, 0, 0, 1, 1, 0, 0, 0, 0, 0, 1, 0, 0, 0, 0, 0, 0, 0, 1, 1, 0, 0,\n",
       "       0, 1, 0, 1, 0, 1, 1, 0, 0, 0, 1, 1, 0, 1, 0, 1, 1, 1, 1, 0, 0, 0,\n",
       "       1, 1, 0, 1, 1, 0, 0, 0, 0, 0, 1, 0, 0, 0, 1, 0, 1, 1, 0, 1, 0, 0,\n",
       "       1, 1, 0, 1, 1, 0, 0, 1, 0, 0, 1, 0, 0, 0, 1, 0, 0, 1, 0, 0, 0, 0,\n",
       "       0, 0, 0, 0, 1, 0, 1, 0, 1, 1, 0, 0, 1, 0, 0, 1, 1, 1, 1, 0, 0, 0,\n",
       "       0, 0, 0, 0, 0, 0, 0, 1, 1, 0, 0])"
      ]
     },
     "execution_count": 50,
     "metadata": {},
     "output_type": "execute_result"
    }
   ],
   "source": [
    "y_pred"
   ]
  },
  {
   "cell_type": "code",
   "execution_count": 51,
   "metadata": {},
   "outputs": [
    {
     "name": "stdout",
     "output_type": "stream",
     "text": [
      "[[112  38]\n",
      " [ 38  43]]\n"
     ]
    }
   ],
   "source": [
    "from sklearn.metrics import confusion_matrix\n",
    "print(confusion_matrix(y_test, y_pred))"
   ]
  },
  {
   "cell_type": "code",
   "execution_count": 52,
   "metadata": {},
   "outputs": [
    {
     "name": "stdout",
     "output_type": "stream",
     "text": [
      "***RESULTS ON TEST SET***\n",
      "F1_score:  0.5308641975308642\n",
      "Accuracy 0.670995670995671\n",
      "Recall 0.5308641975308642\n"
     ]
    }
   ],
   "source": [
    "#EVALUATE OUR PREDICTION\n",
    "from sklearn import metrics\n",
    "\n",
    "print('***RESULTS ON TEST SET***')\n",
    "print(\"F1_score: \",metrics.f1_score(y_test, y_pred))\n",
    "print(\"Accuracy\",metrics.accuracy_score(y_test, y_pred))\n",
    "print(\"Recall\",metrics.recall_score(y_test, y_pred))\n"
   ]
  },
  {
   "cell_type": "markdown",
   "metadata": {},
   "source": [
    "## Searching the best parameters"
   ]
  },
  {
   "cell_type": "markdown",
   "metadata": {},
   "source": [
    "#### DEFINE YOUR GRIDSEARCH \n",
    "\n",
    "GS perfoms an exhaustive search over specified parameter values for an estimator.\n",
    "GS uses a Stratified K-Folds cross-validator\n",
    "(The folds are made by preserving the percentage of samples for each class.)\n",
    "\n",
    "Some Parameters:\n",
    "\n",
    "- estimator : estimator object.\n",
    "- param_grid : dict or list of dictionaries\n",
    "- scoring : scoring parameter\n",
    "- n_jobs : Number of jobs to run in parallel. -1 means using all processors\n",
    "- cv : cross-validation generator (default 3-fold cross validation)\n",
    "- verbose : Controls the verbosity: the higher, the more messages.\n"
   ]
  },
  {
   "cell_type": "code",
   "execution_count": 53,
   "metadata": {},
   "outputs": [],
   "source": [
    "from sklearn.model_selection import GridSearchCV\n",
    "\n",
    "#Create KNN Classifier\n",
    "classifier = KNeighborsClassifier()\n",
    "parameters = {'n_neighbors':np.arange(1,40)}\n",
    "\n",
    "gs = GridSearchCV(classifier, parameters, cv=3, scoring = 'f1', verbose=90, n_jobs=-1, refit='f1')"
   ]
  },
  {
   "cell_type": "code",
   "execution_count": 54,
   "metadata": {},
   "outputs": [
    {
     "name": "stdout",
     "output_type": "stream",
     "text": [
      "Fitting 3 folds for each of 39 candidates, totalling 117 fits\n",
      "[Parallel(n_jobs=-1)]: Using backend LokyBackend with 8 concurrent workers.\n",
      "Pickling array (shape=(8,), dtype=object).\n",
      "Pickling array (shape=(537,), dtype=int64).\n",
      "Pickling array (shape=(6, 537), dtype=int64).\n",
      "Pickling array (shape=(2, 537), dtype=float64).\n",
      "Pickling array (shape=(6,), dtype=object).\n",
      "Pickling array (shape=(2,), dtype=object).\n",
      "Pickling array (shape=(6,), dtype=int64).\n",
      "Pickling array (shape=(537,), dtype=int64).\n",
      "Pickling array (shape=(537,), dtype=int64).\n",
      "Pickling array (shape=(537,), dtype=int64).\n",
      "Pickling array (shape=(358,), dtype=int64).\n",
      "Pickling array (shape=(179,), dtype=int64).\n",
      "Pickling array (shape=(8,), dtype=object).\n",
      "Pickling array (shape=(537,), dtype=int64).\n",
      "Pickling array (shape=(6, 537), dtype=int64).\n",
      "Pickling array (shape=(2, 537), dtype=float64).\n",
      "Pickling array (shape=(6,), dtype=object).\n",
      "Pickling array (shape=(2,), dtype=object).\n",
      "Pickling array (shape=(6,), dtype=int64).\n",
      "Pickling array (shape=(537,), dtype=int64).\n",
      "Pickling array (shape=(537,), dtype=int64).\n",
      "Pickling array (shape=(537,), dtype=int64).\n",
      "Pickling array (shape=(358,), dtype=int64).\n",
      "Pickling array (shape=(179,), dtype=int64).\n",
      "Pickling array (shape=(8,), dtype=object).\n",
      "Pickling array (shape=(537,), dtype=int64).\n",
      "Pickling array (shape=(6, 537), dtype=int64).\n",
      "Pickling array (shape=(2, 537), dtype=float64).\n",
      "Pickling array (shape=(6,), dtype=object).\n",
      "Pickling array (shape=(2,), dtype=object).\n",
      "Pickling array (shape=(6,), dtype=int64).\n",
      "Pickling array (shape=(537,), dtype=int64).\n",
      "Pickling array (shape=(537,), dtype=int64).\n",
      "Pickling array (shape=(537,), dtype=int64).\n",
      "Pickling array (shape=(358,), dtype=int64).\n",
      "Pickling array (shape=(179,), dtype=int64).\n",
      "Pickling array (shape=(8,), dtype=object).\n",
      "Pickling array (shape=(537,), dtype=int64).\n",
      "Pickling array (shape=(6, 537), dtype=int64).\n",
      "Pickling array (shape=(2, 537), dtype=float64).\n",
      "Pickling array (shape=(6,), dtype=object).\n",
      "Pickling array (shape=(2,), dtype=object).\n",
      "Pickling array (shape=(6,), dtype=int64).\n",
      "Pickling array (shape=(537,), dtype=int64).\n",
      "Pickling array (shape=(537,), dtype=int64).\n",
      "Pickling array (shape=(537,), dtype=int64).\n",
      "Pickling array (shape=(358,), dtype=int64).\n",
      "Pickling array (shape=(179,), dtype=int64).\n",
      "Pickling array (shape=(8,), dtype=object).\n",
      "Pickling array (shape=(537,), dtype=int64).\n",
      "Pickling array (shape=(6, 537), dtype=int64).\n",
      "Pickling array (shape=(2, 537), dtype=float64).\n",
      "Pickling array (shape=(6,), dtype=object).\n",
      "Pickling array (shape=(2,), dtype=object).\n",
      "Pickling array (shape=(6,), dtype=int64).\n",
      "Pickling array (shape=(537,), dtype=int64).\n",
      "Pickling array (shape=(537,), dtype=int64).\n",
      "Pickling array (shape=(537,), dtype=int64).\n",
      "Pickling array (shape=(358,), dtype=int64).\n",
      "Pickling array (shape=(179,), dtype=int64).\n",
      "Pickling array (shape=(8,), dtype=object).\n",
      "Pickling array (shape=(537,), dtype=int64).\n",
      "Pickling array (shape=(6, 537), dtype=int64).\n",
      "Pickling array (shape=(2, 537), dtype=float64).\n",
      "Pickling array (shape=(6,), dtype=object).\n",
      "Pickling array (shape=(2,), dtype=object).\n",
      "Pickling array (shape=(6,), dtype=int64).\n",
      "Pickling array (shape=(537,), dtype=int64).\n",
      "Pickling array (shape=(537,), dtype=int64).\n",
      "Pickling array (shape=(537,), dtype=int64).\n",
      "Pickling array (shape=(358,), dtype=int64).\n",
      "Pickling array (shape=(179,), dtype=int64).\n",
      "Pickling array (shape=(8,), dtype=object).\n",
      "Pickling array (shape=(537,), dtype=int64).\n",
      "Pickling array (shape=(6, 537), dtype=int64).\n",
      "Pickling array (shape=(2, 537), dtype=float64).\n",
      "Pickling array (shape=(6,), dtype=object).\n",
      "Pickling array (shape=(2,), dtype=object).\n",
      "Pickling array (shape=(6,), dtype=int64).\n",
      "Pickling array (shape=(537,), dtype=int64).\n",
      "Pickling array (shape=(537,), dtype=int64).\n",
      "Pickling array (shape=(537,), dtype=int64).\n",
      "Pickling array (shape=(358,), dtype=int64).\n",
      "Pickling array (shape=(179,), dtype=int64).\n",
      "Pickling array (shape=(8,), dtype=object).\n",
      "Pickling array (shape=(537,), dtype=int64).\n",
      "Pickling array (shape=(6, 537), dtype=int64).\n",
      "Pickling array (shape=(2, 537), dtype=float64).\n",
      "Pickling array (shape=(6,), dtype=object).\n",
      "Pickling array (shape=(2,), dtype=object).\n",
      "Pickling array (shape=(6,), dtype=int64).\n",
      "Pickling array (shape=(537,), dtype=int64).\n",
      "Pickling array (shape=(537,), dtype=int64).\n",
      "Pickling array (shape=(537,), dtype=int64).\n",
      "Pickling array (shape=(358,), dtype=int64).\n",
      "Pickling array (shape=(179,), dtype=int64).\n",
      "Pickling array (shape=(8,), dtype=object).\n",
      "Pickling array (shape=(537,), dtype=int64).\n",
      "Pickling array (shape=(6, 537), dtype=int64).\n",
      "Pickling array (shape=(2, 537), dtype=float64).\n",
      "Pickling array (shape=(6,), dtype=object).\n",
      "Pickling array (shape=(2,), dtype=object).\n",
      "Pickling array (shape=(6,), dtype=int64).\n",
      "Pickling array (shape=(537,), dtype=int64).\n",
      "Pickling array (shape=(537,), dtype=int64).\n",
      "Pickling array (shape=(537,), dtype=int64).\n",
      "Pickling array (shape=(358,), dtype=int64).\n",
      "Pickling array (shape=(179,), dtype=int64).\n",
      "Pickling array (shape=(8,), dtype=object).\n",
      "Pickling array (shape=(537,), dtype=int64).\n",
      "Pickling array (shape=(6, 537), dtype=int64).\n",
      "Pickling array (shape=(2, 537), dtype=float64).\n",
      "Pickling array (shape=(6,), dtype=object).\n",
      "Pickling array (shape=(2,), dtype=object).\n",
      "Pickling array (shape=(6,), dtype=int64).\n",
      "Pickling array (shape=(537,), dtype=int64).\n",
      "Pickling array (shape=(537,), dtype=int64).\n",
      "Pickling array (shape=(537,), dtype=int64).\n",
      "Pickling array (shape=(358,), dtype=int64).\n",
      "Pickling array (shape=(179,), dtype=int64).\n",
      "[Parallel(n_jobs=-1)]: Done   1 tasks      | elapsed:    0.9s\n",
      "Pickling array (shape=(8,), dtype=object).\n",
      "Pickling array (shape=(537,), dtype=int64).\n",
      "Pickling array (shape=(6, 537), dtype=int64).\n",
      "Pickling array (shape=(2, 537), dtype=float64).\n",
      "Pickling array (shape=(6,), dtype=object).\n",
      "Pickling array (shape=(2,), dtype=object).\n",
      "Pickling array (shape=(6,), dtype=int64).\n",
      "Pickling array (shape=(537,), dtype=int64).\n",
      "Pickling array (shape=(537,), dtype=int64).\n",
      "Pickling array (shape=(537,), dtype=int64).\n",
      "Pickling array (shape=(358,), dtype=int64).\n",
      "Pickling array (shape=(179,), dtype=int64).\n",
      "[Parallel(n_jobs=-1)]: Done   2 tasks      | elapsed:    1.0s\n",
      "Pickling array (shape=(8,), dtype=object).\n",
      "Pickling array (shape=(537,), dtype=int64).\n",
      "Pickling array (shape=(6, 537), dtype=int64).\n",
      "Pickling array (shape=(2, 537), dtype=float64).\n",
      "Pickling array (shape=(6,), dtype=object).\n",
      "Pickling array (shape=(2,), dtype=object).\n",
      "Pickling array (shape=(6,), dtype=int64).\n",
      "Pickling array (shape=(537,), dtype=int64).\n",
      "Pickling array (shape=(537,), dtype=int64).\n",
      "Pickling array (shape=(537,), dtype=int64).\n",
      "Pickling array (shape=(358,), dtype=int64).\n",
      "Pickling array (shape=(179,), dtype=int64).\n",
      "[Parallel(n_jobs=-1)]: Done   3 tasks      | elapsed:    1.0s\n",
      "Pickling array (shape=(8,), dtype=object).\n",
      "Pickling array (shape=(537,), dtype=int64).\n",
      "Pickling array (shape=(6, 537), dtype=int64).\n",
      "Pickling array (shape=(2, 537), dtype=float64).\n",
      "Pickling array (shape=(6,), dtype=object).\n",
      "Pickling array (shape=(2,), dtype=object).\n",
      "Pickling array (shape=(6,), dtype=int64).\n",
      "Pickling array (shape=(537,), dtype=int64).\n",
      "Pickling array (shape=(537,), dtype=int64).\n",
      "Pickling array (shape=(537,), dtype=int64).\n",
      "Pickling array (shape=(358,), dtype=int64).\n",
      "Pickling array (shape=(179,), dtype=int64).\n",
      "[Parallel(n_jobs=-1)]: Done   4 tasks      | elapsed:    1.0s\n",
      "Pickling array (shape=(8,), dtype=object).\n",
      "Pickling array (shape=(537,), dtype=int64).\n",
      "Pickling array (shape=(6, 537), dtype=int64).\n",
      "Pickling array (shape=(2, 537), dtype=float64).\n",
      "Pickling array (shape=(6,), dtype=object).\n",
      "Pickling array (shape=(2,), dtype=object).\n",
      "Pickling array (shape=(6,), dtype=int64).\n",
      "Pickling array (shape=(537,), dtype=int64).\n",
      "Pickling array (shape=(537,), dtype=int64).\n",
      "Pickling array (shape=(537,), dtype=int64).\n",
      "Pickling array (shape=(358,), dtype=int64).\n",
      "Pickling array (shape=(179,), dtype=int64).\n",
      "[Parallel(n_jobs=-1)]: Done   5 tasks      | elapsed:    1.1s\n",
      "[Parallel(n_jobs=-1)]: Done   6 tasks      | elapsed:    1.1s\n",
      "[Parallel(n_jobs=-1)]: Done   7 tasks      | elapsed:    1.1s\n",
      "Pickling array (shape=(8,), dtype=object).\n",
      "Pickling array (shape=(537,), dtype=int64).\n",
      "Pickling array (shape=(6, 537), dtype=int64).\n",
      "Pickling array (shape=(2, 537), dtype=float64).\n",
      "Pickling array (shape=(6,), dtype=object).\n",
      "Pickling array (shape=(2,), dtype=object).\n",
      "Pickling array (shape=(6,), dtype=int64).\n",
      "Pickling array (shape=(537,), dtype=int64).\n",
      "Pickling array (shape=(537,), dtype=int64).\n",
      "Pickling array (shape=(537,), dtype=int64).\n",
      "Pickling array (shape=(358,), dtype=int64).\n",
      "Pickling array (shape=(179,), dtype=int64).\n",
      "Pickling array (shape=(8,), dtype=object).\n",
      "Pickling array (shape=(537,), dtype=int64).\n",
      "Pickling array (shape=(6, 537), dtype=int64).\n",
      "Pickling array (shape=(2, 537), dtype=float64).\n",
      "Pickling array (shape=(6,), dtype=object).\n",
      "Pickling array (shape=(2,), dtype=object).\n",
      "Pickling array (shape=(6,), dtype=int64).\n",
      "Pickling array (shape=(537,), dtype=int64).\n",
      "Pickling array (shape=(537,), dtype=int64).\n",
      "Pickling array (shape=(537,), dtype=int64).\n",
      "Pickling array (shape=(358,), dtype=int64).\n",
      "Pickling array (shape=(179,), dtype=int64).\n",
      "[Parallel(n_jobs=-1)]: Done   8 tasks      | elapsed:    1.1s\n",
      "[Parallel(n_jobs=-1)]: Done   9 tasks      | elapsed:    1.1s\n",
      "[Parallel(n_jobs=-1)]: Done  10 tasks      | elapsed:    1.1s\n",
      "[Parallel(n_jobs=-1)]: Done  11 tasks      | elapsed:    1.1s\n",
      "Pickling array (shape=(8,), dtype=object).\n",
      "Pickling array (shape=(537,), dtype=int64).\n",
      "Pickling array (shape=(6, 537), dtype=int64).\n",
      "Pickling array (shape=(2, 537), dtype=float64).\n",
      "Pickling array (shape=(6,), dtype=object).\n",
      "Pickling array (shape=(2,), dtype=object).\n",
      "Pickling array (shape=(6,), dtype=int64).\n",
      "Pickling array (shape=(537,), dtype=int64).\n",
      "Pickling array (shape=(537,), dtype=int64).\n",
      "Pickling array (shape=(537,), dtype=int64).\n",
      "Pickling array (shape=(358,), dtype=int64).\n",
      "Pickling array (shape=(179,), dtype=int64).\n",
      "Pickling array (shape=(8,), dtype=object).\n",
      "Pickling array (shape=(537,), dtype=int64).\n",
      "Pickling array (shape=(6, 537), dtype=int64).\n",
      "Pickling array (shape=(2, 537), dtype=float64).\n",
      "Pickling array (shape=(6,), dtype=object).\n",
      "Pickling array (shape=(2,), dtype=object).\n",
      "Pickling array (shape=(6,), dtype=int64).\n",
      "Pickling array (shape=(537,), dtype=int64).\n",
      "Pickling array (shape=(537,), dtype=int64).\n",
      "Pickling array (shape=(537,), dtype=int64).\n",
      "Pickling array (shape=(358,), dtype=int64).\n",
      "Pickling array (shape=(179,), dtype=int64).\n",
      "[Parallel(n_jobs=-1)]: Done  12 tasks      | elapsed:    1.1s\n",
      "Pickling array (shape=(8,), dtype=object).\n",
      "Pickling array (shape=(537,), dtype=int64).\n",
      "Pickling array (shape=(6, 537), dtype=int64).\n",
      "Pickling array (shape=(2, 537), dtype=float64).\n",
      "Pickling array (shape=(6,), dtype=object).\n",
      "Pickling array (shape=(2,), dtype=object).\n",
      "Pickling array (shape=(6,), dtype=int64).\n",
      "Pickling array (shape=(537,), dtype=int64).\n",
      "Pickling array (shape=(537,), dtype=int64).\n",
      "Pickling array (shape=(537,), dtype=int64).\n",
      "Pickling array (shape=(358,), dtype=int64).\n",
      "Pickling array (shape=(179,), dtype=int64).\n",
      "Pickling array (shape=(8,), dtype=object).\n",
      "Pickling array (shape=(537,), dtype=int64).\n",
      "Pickling array (shape=(6, 537), dtype=int64).\n",
      "Pickling array (shape=(2, 537), dtype=float64).\n",
      "Pickling array (shape=(6,), dtype=object).\n",
      "Pickling array (shape=(2,), dtype=object).\n"
     ]
    },
    {
     "name": "stdout",
     "output_type": "stream",
     "text": [
      "Pickling array (shape=(6,), dtype=int64).\n",
      "Pickling array (shape=(537,), dtype=int64).[Parallel(n_jobs=-1)]: Done  13 tasks      | elapsed:    1.1s\n",
      "\n",
      "Pickling array (shape=(537,), dtype=int64).\n",
      "Pickling array (shape=(537,), dtype=int64).\n",
      "Pickling array (shape=(358,), dtype=int64).\n",
      "Pickling array (shape=(179,), dtype=int64).\n",
      "Pickling array (shape=(8,), dtype=object).\n",
      "Pickling array (shape=(537,), dtype=int64).\n",
      "Pickling array (shape=(6, 537), dtype=int64).\n",
      "Pickling array (shape=(2, 537), dtype=float64).\n",
      "Pickling array (shape=(6,), dtype=object).\n",
      "Pickling array (shape=(2,), dtype=object).\n",
      "Pickling array (shape=(6,), dtype=int64).\n",
      "Pickling array (shape=(537,), dtype=int64).\n",
      "Pickling array (shape=(537,), dtype=int64).\n",
      "Pickling array (shape=(537,), dtype=int64).\n",
      "Pickling array (shape=(358,), dtype=int64).\n",
      "Pickling array (shape=(179,), dtype=int64).\n",
      "Pickling array (shape=(8,), dtype=object).\n",
      "Pickling array (shape=(537,), dtype=int64).[Parallel(n_jobs=-1)]: Done  14 tasks      | elapsed:    1.2s\n",
      "\n",
      "Pickling array (shape=(6, 537), dtype=int64).\n",
      "Pickling array (shape=(2, 537), dtype=float64).\n",
      "Pickling array (shape=(6,), dtype=object).\n",
      "Pickling array (shape=(2,), dtype=object).\n",
      "Pickling array (shape=(6,), dtype=int64).\n",
      "Pickling array (shape=(537,), dtype=int64).\n",
      "Pickling array (shape=(537,), dtype=int64).\n",
      "Pickling array (shape=(537,), dtype=int64).[Parallel(n_jobs=-1)]: Done  15 tasks      | elapsed:    1.2s\n",
      "\n",
      "Pickling array (shape=(358,), dtype=int64).[Parallel(n_jobs=-1)]: Done  16 tasks      | elapsed:    1.2s\n",
      "[Parallel(n_jobs=-1)]: Done  17 tasks      | elapsed:    1.2s\n",
      "\n",
      "Pickling array (shape=(179,), dtype=int64).\n",
      "Pickling array (shape=(8,), dtype=object).\n",
      "Pickling array (shape=(537,), dtype=int64).\n",
      "Pickling array (shape=(6, 537), dtype=int64).\n",
      "Pickling array (shape=(2, 537), dtype=float64).[Parallel(n_jobs=-1)]: Done  18 tasks      | elapsed:    1.2s\n",
      "\n",
      "Pickling array (shape=(6,), dtype=object).\n",
      "Pickling array (shape=(2,), dtype=object).\n",
      "Pickling array (shape=(6,), dtype=int64).\n",
      "Pickling array (shape=(537,), dtype=int64).\n",
      "Pickling array (shape=(537,), dtype=int64).\n",
      "Pickling array (shape=(537,), dtype=int64).\n",
      "Pickling array (shape=(358,), dtype=int64).\n",
      "Pickling array (shape=(179,), dtype=int64).\n",
      "[Parallel(n_jobs=-1)]: Done  19 tasks      | elapsed:    1.2s\n",
      "Pickling array (shape=(8,), dtype=object).\n",
      "Pickling array (shape=(537,), dtype=int64).\n",
      "Pickling array (shape=(6, 537), dtype=int64).\n",
      "Pickling array (shape=(2, 537), dtype=float64).\n",
      "Pickling array (shape=(6,), dtype=object).\n",
      "Pickling array (shape=(2,), dtype=object).\n",
      "Pickling array (shape=(6,), dtype=int64).\n",
      "Pickling array (shape=(537,), dtype=int64).\n",
      "Pickling array (shape=(537,), dtype=int64).\n",
      "Pickling array (shape=(537,), dtype=int64).\n",
      "Pickling array (shape=(358,), dtype=int64).\n",
      "Pickling array (shape=(179,), dtype=int64).\n",
      "Pickling array (shape=(8,), dtype=object).\n",
      "Pickling array (shape=(537,), dtype=int64).\n",
      "Pickling array (shape=(6, 537), dtype=int64).\n",
      "Pickling array (shape=(2, 537), dtype=float64).\n",
      "Pickling array (shape=(6,), dtype=object).\n",
      "Pickling array (shape=(2,), dtype=object).\n",
      "Pickling array (shape=(6,), dtype=int64).\n",
      "Pickling array (shape=(537,), dtype=int64).\n",
      "Pickling array (shape=(537,), dtype=int64).\n",
      "Pickling array (shape=(537,), dtype=int64).\n",
      "Pickling array (shape=(358,), dtype=int64).\n",
      "Pickling array (shape=(179,), dtype=int64).\n",
      "[Parallel(n_jobs=-1)]: Done  20 tasks      | elapsed:    1.2s\n",
      "[Parallel(n_jobs=-1)]: Done  21 tasks      | elapsed:    1.2s\n",
      "Pickling array (shape=(8,), dtype=object).\n",
      "Pickling array (shape=(537,), dtype=int64).[Parallel(n_jobs=-1)]: Done  22 tasks      | elapsed:    1.2s\n",
      "\n",
      "Pickling array (shape=(6, 537), dtype=int64).\n",
      "Pickling array (shape=(2, 537), dtype=float64).\n",
      "Pickling array (shape=(6,), dtype=object).\n",
      "Pickling array (shape=(2,), dtype=object).\n",
      "Pickling array (shape=(6,), dtype=int64).\n",
      "Pickling array (shape=(537,), dtype=int64).\n",
      "Pickling array (shape=(537,), dtype=int64).\n",
      "Pickling array (shape=(537,), dtype=int64).\n",
      "Pickling array (shape=(358,), dtype=int64).\n",
      "Pickling array (shape=(179,), dtype=int64).\n",
      "Pickling array (shape=(8,), dtype=object).\n",
      "Pickling array (shape=(537,), dtype=int64).\n",
      "Pickling array (shape=(6, 537), dtype=int64).\n",
      "Pickling array (shape=(2, 537), dtype=float64).\n",
      "Pickling array (shape=(6,), dtype=object).\n",
      "Pickling array (shape=(2,), dtype=object).\n",
      "Pickling array (shape=(6,), dtype=int64).\n",
      "Pickling array (shape=(537,), dtype=int64).\n",
      "Pickling array (shape=(537,), dtype=int64).\n",
      "Pickling array (shape=(537,), dtype=int64).\n",
      "Pickling array (shape=(358,), dtype=int64).\n",
      "Pickling array (shape=(179,), dtype=int64).\n",
      "[Parallel(n_jobs=-1)]: Done  23 tasks      | elapsed:    1.2s\n",
      "Pickling array (shape=(8,), dtype=object).\n",
      "Pickling array (shape=(537,), dtype=int64).\n",
      "Pickling array (shape=(6, 537), dtype=int64).\n",
      "Pickling array (shape=(2, 537), dtype=float64).\n",
      "Pickling array (shape=(6,), dtype=object).\n",
      "Pickling array (shape=(2,), dtype=object).\n",
      "Pickling array (shape=(6,), dtype=int64).\n",
      "Pickling array (shape=(537,), dtype=int64).\n",
      "Pickling array (shape=(537,), dtype=int64).\n",
      "Pickling array (shape=(537,), dtype=int64).\n",
      "Pickling array (shape=(358,), dtype=int64).\n",
      "Pickling array (shape=(179,), dtype=int64).\n",
      "Pickling array (shape=(8,), dtype=object).[Parallel(n_jobs=-1)]: Done  24 tasks      | elapsed:    1.2s\n",
      "\n",
      "Pickling array (shape=(537,), dtype=int64).\n",
      "Pickling array (shape=(6, 537), dtype=int64).\n",
      "Pickling array (shape=(2, 537), dtype=float64).\n",
      "Pickling array (shape=(6,), dtype=object).\n",
      "Pickling array (shape=(2,), dtype=object).\n",
      "Pickling array (shape=(6,), dtype=int64).\n",
      "Pickling array (shape=(537,), dtype=int64).\n",
      "Pickling array (shape=(537,), dtype=int64).\n",
      "Pickling array (shape=(537,), dtype=int64).\n",
      "Pickling array (shape=(358,), dtype=int64).\n",
      "Pickling array (shape=(179,), dtype=int64).\n",
      "Pickling array (shape=(8,), dtype=object).\n",
      "Pickling array (shape=(537,), dtype=int64).\n",
      "Pickling array (shape=(6, 537), dtype=int64).\n",
      "Pickling array (shape=(2, 537), dtype=float64).\n",
      "Pickling array (shape=(6,), dtype=object).\n",
      "Pickling array (shape=(2,), dtype=object).\n",
      "Pickling array (shape=(6,), dtype=int64).\n",
      "Pickling array (shape=(537,), dtype=int64).\n",
      "Pickling array (shape=(537,), dtype=int64).\n",
      "Pickling array (shape=(537,), dtype=int64).\n",
      "Pickling array (shape=(358,), dtype=int64).\n",
      "Pickling array (shape=(179,), dtype=int64).\n",
      "Pickling array (shape=(8,), dtype=object).\n",
      "Pickling array (shape=(537,), dtype=int64).\n",
      "Pickling array (shape=(6, 537), dtype=int64).\n",
      "Pickling array (shape=(2, 537), dtype=float64).\n",
      "Pickling array (shape=(6,), dtype=object).\n",
      "Pickling array (shape=(2,), dtype=object).\n",
      "Pickling array (shape=(6,), dtype=int64).\n",
      "Pickling array (shape=(537,), dtype=int64).\n",
      "Pickling array (shape=(537,), dtype=int64).\n",
      "Pickling array (shape=(537,), dtype=int64).\n",
      "Pickling array (shape=(358,), dtype=int64).\n",
      "Pickling array (shape=(179,), dtype=int64).\n",
      "[Parallel(n_jobs=-1)]: Done  25 tasks      | elapsed:    1.2s\n",
      "Pickling array (shape=(8,), dtype=object).\n",
      "Pickling array (shape=(537,), dtype=int64).\n",
      "Pickling array (shape=(6, 537), dtype=int64).\n",
      "Pickling array (shape=(2, 537), dtype=float64).\n",
      "Pickling array (shape=(6,), dtype=object).\n",
      "Pickling array (shape=(2,), dtype=object).\n",
      "Pickling array (shape=(6,), dtype=int64).\n",
      "Pickling array (shape=(537,), dtype=int64).\n",
      "Pickling array (shape=(537,), dtype=int64).\n",
      "Pickling array (shape=(537,), dtype=int64).\n",
      "Pickling array (shape=(358,), dtype=int64).\n",
      "Pickling array (shape=(179,), dtype=int64).\n",
      "Pickling array (shape=(8,), dtype=object).\n",
      "Pickling array (shape=(537,), dtype=int64).\n",
      "[Parallel(n_jobs=-1)]: Done  26 tasks      | elapsed:    1.2s\n",
      "Pickling array (shape=(6, 537), dtype=int64).\n",
      "Pickling array (shape=(2, 537), dtype=float64).\n",
      "Pickling array (shape=(6,), dtype=object).\n",
      "Pickling array (shape=(2,), dtype=object).\n",
      "Pickling array (shape=(6,), dtype=int64).\n",
      "Pickling array (shape=(537,), dtype=int64).\n",
      "Pickling array (shape=(537,), dtype=int64).\n",
      "Pickling array (shape=(537,), dtype=int64).\n",
      "Pickling array (shape=(358,), dtype=int64).\n",
      "Pickling array (shape=(179,), dtype=int64).\n",
      "Pickling array (shape=(8,), dtype=object).[Parallel(n_jobs=-1)]: Done  27 tasks      | elapsed:    1.3s\n",
      "[Parallel(n_jobs=-1)]: Done  28 tasks      | elapsed:    1.3s\n",
      "[Parallel(n_jobs=-1)]: Done  29 tasks      | elapsed:    1.3s\n",
      "\n",
      "Pickling array (shape=(537,), dtype=int64).\n",
      "[Parallel(n_jobs=-1)]: Batch computation too fast (0.1912s.) Setting batch_size=2.\n",
      "Pickling array (shape=(6, 537), dtype=int64).\n",
      "Pickling array (shape=(2, 537), dtype=float64).\n",
      "Pickling array (shape=(6,), dtype=object).\n",
      "Pickling array (shape=(2,), dtype=object).\n",
      "Pickling array (shape=(6,), dtype=int64).\n",
      "Pickling array (shape=(537,), dtype=int64).\n",
      "Pickling array (shape=(537,), dtype=int64).\n",
      "Pickling array (shape=(537,), dtype=int64).\n",
      "Pickling array (shape=(358,), dtype=int64).\n",
      "Pickling array (shape=(179,), dtype=int64).\n",
      "Pickling array (shape=(8,), dtype=object).\n",
      "Pickling array (shape=(537,), dtype=int64).\n",
      "Pickling array (shape=(6, 537), dtype=int64).\n",
      "Pickling array (shape=(2, 537), dtype=float64).\n",
      "Pickling array (shape=(6,), dtype=object).\n",
      "Pickling array (shape=(2,), dtype=object).\n",
      "Pickling array (shape=(6,), dtype=int64).\n",
      "Pickling array (shape=(537,), dtype=int64).\n",
      "Pickling array (shape=(537,), dtype=int64).\n",
      "Pickling array (shape=(537,), dtype=int64).\n",
      "Pickling array (shape=(358,), dtype=int64).\n",
      "Pickling array (shape=(179,), dtype=int64).\n",
      "Pickling array (shape=(8,), dtype=object).\n",
      "[Parallel(n_jobs=-1)]: Done  30 tasks      | elapsed:    1.3s\n",
      "Pickling array (shape=(537,), dtype=int64).\n",
      "Pickling array (shape=(6, 537), dtype=int64).\n",
      "Pickling array (shape=(2, 537), dtype=float64).\n",
      "Pickling array (shape=(6,), dtype=object).\n",
      "Pickling array (shape=(2,), dtype=object).\n",
      "Pickling array (shape=(6,), dtype=int64).\n",
      "Pickling array (shape=(537,), dtype=int64).\n",
      "Pickling array (shape=(537,), dtype=int64).\n",
      "Pickling array (shape=(537,), dtype=int64).\n",
      "Pickling array (shape=(358,), dtype=int64).\n",
      "Pickling array (shape=(179,), dtype=int64).\n",
      "[Parallel(n_jobs=-1)]: Done  31 tasks      | elapsed:    1.3s\n",
      "Pickling array (shape=(8,), dtype=object).\n",
      "Pickling array (shape=(537,), dtype=int64).\n",
      "Pickling array (shape=(6, 537), dtype=int64).\n",
      "Pickling array (shape=(2, 537), dtype=float64).\n",
      "Pickling array (shape=(6,), dtype=object).\n",
      "Pickling array (shape=(2,), dtype=object).\n",
      "Pickling array (shape=(6,), dtype=int64).\n",
      "Pickling array (shape=(537,), dtype=int64).[Parallel(n_jobs=-1)]: Done  32 tasks      | elapsed:    1.3s\n",
      "\n",
      "Pickling array (shape=(537,), dtype=int64).\n",
      "Pickling array (shape=(537,), dtype=int64).\n",
      "Pickling array (shape=(358,), dtype=int64).\n",
      "Pickling array (shape=(179,), dtype=int64).\n",
      "Pickling array (shape=(8,), dtype=object).\n",
      "Pickling array (shape=(537,), dtype=int64).\n",
      "Pickling array (shape=(6, 537), dtype=int64).\n",
      "Pickling array (shape=(2, 537), dtype=float64).\n",
      "Pickling array (shape=(6,), dtype=object).\n",
      "Pickling array (shape=(2,), dtype=object).\n",
      "Pickling array (shape=(6,), dtype=int64).\n",
      "Pickling array (shape=(537,), dtype=int64).\n",
      "Pickling array (shape=(537,), dtype=int64).\n",
      "Pickling array (shape=(537,), dtype=int64).\n",
      "Pickling array (shape=(358,), dtype=int64).\n",
      "Pickling array (shape=(179,), dtype=int64).\n",
      "[Parallel(n_jobs=-1)]: Done  33 tasks      | elapsed:    1.3s\n",
      "Pickling array (shape=(8,), dtype=object).\n",
      "Pickling array (shape=(537,), dtype=int64).\n",
      "Pickling array (shape=(6, 537), dtype=int64).\n",
      "Pickling array (shape=(2, 537), dtype=float64).\n",
      "Pickling array (shape=(6,), dtype=object).\n",
      "Pickling array (shape=(2,), dtype=object).\n",
      "Pickling array (shape=(6,), dtype=int64).\n",
      "Pickling array (shape=(537,), dtype=int64).\n",
      "Pickling array (shape=(537,), dtype=int64).\n",
      "Pickling array (shape=(537,), dtype=int64).\n",
      "Pickling array (shape=(358,), dtype=int64).\n",
      "Pickling array (shape=(179,), dtype=int64).\n",
      "[Parallel(n_jobs=-1)]: Done  34 tasks      | elapsed:    1.3s\n",
      "Pickling array (shape=(8,), dtype=object).[Parallel(n_jobs=-1)]: Done  35 tasks      | elapsed:    1.3s\n",
      "\n",
      "Pickling array (shape=(537,), dtype=int64).\n",
      "Pickling array (shape=(6, 537), dtype=int64).\n",
      "Pickling array (shape=(2, 537), dtype=float64).\n",
      "Pickling array (shape=(6,), dtype=object).\n",
      "Pickling array (shape=(2,), dtype=object).\n",
      "Pickling array (shape=(6,), dtype=int64).\n",
      "Pickling array (shape=(537,), dtype=int64).\n",
      "Pickling array (shape=(537,), dtype=int64).\n",
      "Pickling array (shape=(537,), dtype=int64).\n",
      "Pickling array (shape=(358,), dtype=int64).\n",
      "Pickling array (shape=(179,), dtype=int64).\n",
      "Pickling array (shape=(8,), dtype=object).\n",
      "Pickling array (shape=(537,), dtype=int64).\n",
      "Pickling array (shape=(6, 537), dtype=int64).\n",
      "Pickling array (shape=(2, 537), dtype=float64).\n",
      "Pickling array (shape=(6,), dtype=object).\n",
      "Pickling array (shape=(2,), dtype=object).\n",
      "Pickling array (shape=(6,), dtype=int64).\n",
      "Pickling array (shape=(537,), dtype=int64).\n",
      "Pickling array (shape=(537,), dtype=int64).\n",
      "Pickling array (shape=(537,), dtype=int64).\n",
      "Pickling array (shape=(358,), dtype=int64).\n",
      "Pickling array (shape=(179,), dtype=int64).\n",
      "Pickling array (shape=(8,), dtype=object).\n",
      "Pickling array (shape=(537,), dtype=int64).\n",
      "Pickling array (shape=(6, 537), dtype=int64).\n",
      "Pickling array (shape=(2, 537), dtype=float64).\n",
      "Pickling array (shape=(6,), dtype=object).\n",
      "Pickling array (shape=(2,), dtype=object).\n",
      "Pickling array (shape=(6,), dtype=int64).\n",
      "Pickling array (shape=(537,), dtype=int64).\n",
      "Pickling array (shape=(537,), dtype=int64).\n",
      "Pickling array (shape=(537,), dtype=int64).\n",
      "Pickling array (shape=(358,), dtype=int64).\n",
      "Pickling array (shape=(179,), dtype=int64).\n",
      "[Parallel(n_jobs=-1)]: Done  36 tasks      | elapsed:    1.3s\n",
      "Pickling array (shape=(8,), dtype=object).\n",
      "Pickling array (shape=(537,), dtype=int64).\n",
      "Pickling array (shape=(6, 537), dtype=int64).\n",
      "Pickling array (shape=(2, 537), dtype=float64).\n",
      "Pickling array (shape=(6,), dtype=object).\n",
      "Pickling array (shape=(2,), dtype=object).\n",
      "Pickling array (shape=(6,), dtype=int64).\n",
      "Pickling array (shape=(537,), dtype=int64).\n",
      "Pickling array (shape=(537,), dtype=int64).\n",
      "Pickling array (shape=(537,), dtype=int64).\n",
      "Pickling array (shape=(358,), dtype=int64).\n",
      "Pickling array (shape=(179,), dtype=int64).\n",
      "[Parallel(n_jobs=-1)]: Done  37 tasks      | elapsed:    1.3s\n",
      "Pickling array (shape=(8,), dtype=object).\n",
      "Pickling array (shape=(537,), dtype=int64).\n",
      "Pickling array (shape=(6, 537), dtype=int64).\n",
      "Pickling array (shape=(2, 537), dtype=float64).\n",
      "Pickling array (shape=(6,), dtype=object).\n",
      "Pickling array (shape=(2,), dtype=object).\n",
      "Pickling array (shape=(6,), dtype=int64).\n",
      "Pickling array (shape=(537,), dtype=int64).\n",
      "Pickling array (shape=(537,), dtype=int64).\n",
      "Pickling array (shape=(537,), dtype=int64).\n",
      "Pickling array (shape=(358,), dtype=int64).\n",
      "Pickling array (shape=(179,), dtype=int64).\n",
      "[Parallel(n_jobs=-1)]: Done  38 tasks      | elapsed:    1.3s\n",
      "Pickling array (shape=(8,), dtype=object).[Parallel(n_jobs=-1)]: Done  39 tasks      | elapsed:    1.3s\n",
      "\n",
      "Pickling array (shape=(537,), dtype=int64).[Parallel(n_jobs=-1)]: Done  40 tasks      | elapsed:    1.3s\n",
      "[Parallel(n_jobs=-1)]: Done  41 tasks      | elapsed:    1.3s\n",
      "\n",
      "Pickling array (shape=(6, 537), dtype=int64).\n",
      "Pickling array (shape=(2, 537), dtype=float64).\n",
      "Pickling array (shape=(6,), dtype=object).\n",
      "Pickling array (shape=(2,), dtype=object).\n",
      "Pickling array (shape=(6,), dtype=int64).\n",
      "Pickling array (shape=(537,), dtype=int64).\n",
      "Pickling array (shape=(537,), dtype=int64).\n",
      "Pickling array (shape=(537,), dtype=int64).\n",
      "Pickling array (shape=(358,), dtype=int64).\n",
      "Pickling array (shape=(179,), dtype=int64).\n",
      "Pickling array (shape=(8,), dtype=object).\n",
      "Pickling array (shape=(537,), dtype=int64).\n",
      "Pickling array (shape=(6, 537), dtype=int64).\n",
      "Pickling array (shape=(2, 537), dtype=float64).\n",
      "Pickling array (shape=(6,), dtype=object).\n",
      "Pickling array (shape=(2,), dtype=object).\n",
      "Pickling array (shape=(6,), dtype=int64).\n",
      "Pickling array (shape=(537,), dtype=int64).\n",
      "Pickling array (shape=(537,), dtype=int64).\n",
      "Pickling array (shape=(537,), dtype=int64).\n",
      "Pickling array (shape=(358,), dtype=int64).\n",
      "Pickling array (shape=(179,), dtype=int64).\n",
      "[Parallel(n_jobs=-1)]: Done  42 tasks      | elapsed:    1.3s\n",
      "[Parallel(n_jobs=-1)]: Done  43 tasks      | elapsed:    1.3s\n",
      "Pickling array (shape=(8,), dtype=object).\n",
      "Pickling array (shape=(537,), dtype=int64).\n",
      "Pickling array (shape=(6, 537), dtype=int64).\n",
      "Pickling array (shape=(2, 537), dtype=float64).\n",
      "Pickling array (shape=(6,), dtype=object).\n",
      "Pickling array (shape=(2,), dtype=object).\n",
      "Pickling array (shape=(6,), dtype=int64).\n",
      "Pickling array (shape=(537,), dtype=int64).\n",
      "Pickling array (shape=(537,), dtype=int64).\n",
      "Pickling array (shape=(537,), dtype=int64).\n",
      "Pickling array (shape=(358,), dtype=int64).\n",
      "Pickling array (shape=(179,), dtype=int64).\n",
      "Pickling array (shape=(8,), dtype=object).[Parallel(n_jobs=-1)]: Done  44 tasks      | elapsed:    1.3s\n",
      "\n"
     ]
    },
    {
     "name": "stdout",
     "output_type": "stream",
     "text": [
      "Pickling array (shape=(537,), dtype=int64).\n",
      "Pickling array (shape=(6, 537), dtype=int64).\n",
      "Pickling array (shape=(2, 537), dtype=float64).\n",
      "Pickling array (shape=(6,), dtype=object).\n",
      "Pickling array (shape=(2,), dtype=object).\n",
      "Pickling array (shape=(6,), dtype=int64).\n",
      "Pickling array (shape=(537,), dtype=int64).\n",
      "Pickling array (shape=(537,), dtype=int64).\n",
      "Pickling array (shape=(537,), dtype=int64).\n",
      "Pickling array (shape=(358,), dtype=int64).\n",
      "Pickling array (shape=(179,), dtype=int64).\n",
      "[Parallel(n_jobs=-1)]: Done  45 tasks      | elapsed:    1.3s\n",
      "Pickling array (shape=(8,), dtype=object).\n",
      "Pickling array (shape=(537,), dtype=int64).\n",
      "Pickling array (shape=(6, 537), dtype=int64).\n",
      "Pickling array (shape=(2, 537), dtype=float64).\n",
      "Pickling array (shape=(6,), dtype=object).\n",
      "Pickling array (shape=(2,), dtype=object).\n",
      "Pickling array (shape=(6,), dtype=int64).\n",
      "Pickling array (shape=(537,), dtype=int64).\n",
      "Pickling array (shape=(537,), dtype=int64).\n",
      "Pickling array (shape=(537,), dtype=int64).\n",
      "Pickling array (shape=(358,), dtype=int64).\n",
      "Pickling array (shape=(179,), dtype=int64).\n",
      "Pickling array (shape=(358,), dtype=int64).\n",
      "Pickling array (shape=(179,), dtype=int64).\n",
      "Pickling array (shape=(8,), dtype=object).\n",
      "Pickling array (shape=(537,), dtype=int64).\n",
      "Pickling array (shape=(6, 537), dtype=int64).\n",
      "Pickling array (shape=(2, 537), dtype=float64).\n",
      "Pickling array (shape=(6,), dtype=object).\n",
      "Pickling array (shape=(2,), dtype=object).\n",
      "Pickling array (shape=(6,), dtype=int64).\n",
      "Pickling array (shape=(537,), dtype=int64).\n",
      "Pickling array (shape=(537,), dtype=int64).\n",
      "Pickling array (shape=(537,), dtype=int64).\n",
      "Pickling array (shape=(358,), dtype=int64).\n",
      "Pickling array (shape=(179,), dtype=int64).\n",
      "Pickling array (shape=(358,), dtype=int64).\n",
      "Pickling array (shape=(179,), dtype=int64).\n",
      "[Parallel(n_jobs=-1)]: Done  46 tasks      | elapsed:    1.4s\n",
      "Pickling array (shape=(8,), dtype=object).\n",
      "Pickling array (shape=(537,), dtype=int64).\n",
      "Pickling array (shape=(6, 537), dtype=int64).\n",
      "Pickling array (shape=(2, 537), dtype=float64).\n",
      "Pickling array (shape=(6,), dtype=object).\n",
      "Pickling array (shape=(2,), dtype=object).\n",
      "Pickling array (shape=(6,), dtype=int64).\n",
      "Pickling array (shape=(537,), dtype=int64).\n",
      "Pickling array (shape=(537,), dtype=int64).\n",
      "Pickling array (shape=(537,), dtype=int64).\n",
      "Pickling array (shape=(358,), dtype=int64).\n",
      "Pickling array (shape=(179,), dtype=int64).\n",
      "Pickling array (shape=(358,), dtype=int64).\n",
      "Pickling array (shape=(179,), dtype=int64).\n",
      "Pickling array (shape=(8,), dtype=object).\n",
      "Pickling array (shape=(537,), dtype=int64).\n",
      "Pickling array (shape=(6, 537), dtype=int64).\n",
      "Pickling array (shape=(2, 537), dtype=float64).\n",
      "Pickling array (shape=(6,), dtype=object).\n",
      "Pickling array (shape=(2,), dtype=object).\n",
      "Pickling array (shape=(6,), dtype=int64).\n",
      "Pickling array (shape=(537,), dtype=int64).\n",
      "Pickling array (shape=(537,), dtype=int64).\n",
      "Pickling array (shape=(537,), dtype=int64).\n",
      "Pickling array (shape=(358,), dtype=int64).\n",
      "Pickling array (shape=(179,), dtype=int64).\n",
      "Pickling array (shape=(358,), dtype=int64).\n",
      "Pickling array (shape=(179,), dtype=int64).\n",
      "Pickling array (shape=(8,), dtype=object).[Parallel(n_jobs=-1)]: Done  47 tasks      | elapsed:    1.4s\n",
      "\n",
      "Pickling array (shape=(537,), dtype=int64).\n",
      "Pickling array (shape=(6, 537), dtype=int64).\n",
      "Pickling array (shape=(2, 537), dtype=float64).\n",
      "Pickling array (shape=(6,), dtype=object).\n",
      "Pickling array (shape=(2,), dtype=object).\n",
      "Pickling array (shape=(6,), dtype=int64).\n",
      "Pickling array (shape=(537,), dtype=int64).\n",
      "Pickling array (shape=(537,), dtype=int64).\n",
      "Pickling array (shape=(537,), dtype=int64).\n",
      "Pickling array (shape=(358,), dtype=int64).\n",
      "Pickling array (shape=(179,), dtype=int64).\n",
      "Pickling array (shape=(358,), dtype=int64).\n",
      "Pickling array (shape=(179,), dtype=int64).\n",
      "[Parallel(n_jobs=-1)]: Done  48 tasks      | elapsed:    1.4s\n",
      "Pickling array (shape=(8,), dtype=object).\n",
      "Pickling array (shape=(537,), dtype=int64).\n",
      "Pickling array (shape=(6, 537), dtype=int64).\n",
      "Pickling array (shape=(2, 537), dtype=float64).\n",
      "Pickling array (shape=(6,), dtype=object).\n",
      "Pickling array (shape=(2,), dtype=object).\n",
      "Pickling array (shape=(6,), dtype=int64).\n",
      "Pickling array (shape=(537,), dtype=int64).\n",
      "Pickling array (shape=(537,), dtype=int64).\n",
      "Pickling array (shape=(537,), dtype=int64).\n",
      "Pickling array (shape=(358,), dtype=int64).\n",
      "Pickling array (shape=(179,), dtype=int64).\n",
      "Pickling array (shape=(358,), dtype=int64).\n",
      "Pickling array (shape=(179,), dtype=int64).\n",
      "Pickling array (shape=(8,), dtype=object).\n",
      "Pickling array (shape=(537,), dtype=int64).\n",
      "Pickling array (shape=(6, 537), dtype=int64).\n",
      "Pickling array (shape=(2, 537), dtype=float64).\n",
      "Pickling array (shape=(6,), dtype=object).\n",
      "Pickling array (shape=(2,), dtype=object).\n",
      "Pickling array (shape=(6,), dtype=int64).\n",
      "Pickling array (shape=(537,), dtype=int64).\n",
      "Pickling array (shape=(537,), dtype=int64).\n",
      "Pickling array (shape=(537,), dtype=int64).\n",
      "Pickling array (shape=(358,), dtype=int64).[Parallel(n_jobs=-1)]: Done  50 tasks      | elapsed:    1.4s\n",
      "[Parallel(n_jobs=-1)]: Batch computation too fast (0.1098s.) Setting batch_size=4.\n",
      "[Parallel(n_jobs=-1)]: Done  52 tasks      | elapsed:    1.4s\n",
      "\n",
      "Pickling array (shape=(179,), dtype=int64).\n",
      "Pickling array (shape=(358,), dtype=int64).\n",
      "Pickling array (shape=(179,), dtype=int64).\n",
      "Pickling array (shape=(8,), dtype=object).\n",
      "Pickling array (shape=(537,), dtype=int64).\n",
      "Pickling array (shape=(6, 537), dtype=int64).\n",
      "Pickling array (shape=(2, 537), dtype=float64).\n",
      "Pickling array (shape=(6,), dtype=object).\n",
      "Pickling array (shape=(2,), dtype=object).\n",
      "Pickling array (shape=(6,), dtype=int64).\n",
      "Pickling array (shape=(537,), dtype=int64).\n",
      "Pickling array (shape=(537,), dtype=int64).\n",
      "Pickling array (shape=(537,), dtype=int64).\n",
      "Pickling array (shape=(358,), dtype=int64).\n",
      "Pickling array (shape=(179,), dtype=int64).\n",
      "Pickling array (shape=(358,), dtype=int64).\n",
      "Pickling array (shape=(179,), dtype=int64).\n",
      "[Parallel(n_jobs=-1)]: Done  54 tasks      | elapsed:    1.4s\n",
      "Pickling array (shape=(8,), dtype=object).\n",
      "Pickling array (shape=(537,), dtype=int64).\n",
      "Pickling array (shape=(6, 537), dtype=int64).\n",
      "Pickling array (shape=(2, 537), dtype=float64).\n",
      "Pickling array (shape=(6,), dtype=object).\n",
      "Pickling array (shape=(2,), dtype=object).\n",
      "Pickling array (shape=(6,), dtype=int64).\n",
      "Pickling array (shape=(537,), dtype=int64).\n",
      "Pickling array (shape=(537,), dtype=int64).\n",
      "Pickling array (shape=(537,), dtype=int64).\n",
      "Pickling array (shape=(358,), dtype=int64).\n",
      "Pickling array (shape=(179,), dtype=int64).\n",
      "Pickling array (shape=(358,), dtype=int64).\n",
      "Pickling array (shape=(179,), dtype=int64).\n",
      "Pickling array (shape=(8,), dtype=object).\n",
      "Pickling array (shape=(537,), dtype=int64).\n",
      "Pickling array (shape=(6, 537), dtype=int64).\n",
      "Pickling array (shape=(2, 537), dtype=float64).\n",
      "Pickling array (shape=(6,), dtype=object).\n",
      "Pickling array (shape=(2,), dtype=object).\n",
      "Pickling array (shape=(6,), dtype=int64).\n",
      "Pickling array (shape=(537,), dtype=int64).\n",
      "Pickling array (shape=(537,), dtype=int64).\n",
      "Pickling array (shape=(537,), dtype=int64).\n",
      "Pickling array (shape=(358,), dtype=int64).\n",
      "Pickling array (shape=(179,), dtype=int64).\n",
      "Pickling array (shape=(358,), dtype=int64).\n",
      "Pickling array (shape=(179,), dtype=int64).\n",
      "Pickling array (shape=(8,), dtype=object).\n",
      "Pickling array (shape=(537,), dtype=int64).\n",
      "Pickling array (shape=(6, 537), dtype=int64).\n",
      "Pickling array (shape=(2, 537), dtype=float64).\n",
      "Pickling array (shape=(6,), dtype=object).\n",
      "Pickling array (shape=(2,), dtype=object).\n",
      "Pickling array (shape=(6,), dtype=int64).\n",
      "Pickling array (shape=(537,), dtype=int64).\n",
      "[Parallel(n_jobs=-1)]: Done  56 tasks      | elapsed:    1.4s\n",
      "Pickling array (shape=(537,), dtype=int64).\n",
      "Pickling array (shape=(537,), dtype=int64).\n",
      "Pickling array (shape=(358,), dtype=int64).\n",
      "Pickling array (shape=(179,), dtype=int64).\n",
      "Pickling array (shape=(358,), dtype=int64).\n",
      "Pickling array (shape=(179,), dtype=int64).\n",
      "[Parallel(n_jobs=-1)]: Done  58 tasks      | elapsed:    1.4s\n",
      "[Parallel(n_jobs=-1)]: Done  60 tasks      | elapsed:    1.4s\n",
      "Pickling array (shape=(8,), dtype=object).\n",
      "Pickling array (shape=(537,), dtype=int64).\n",
      "Pickling array (shape=(6, 537), dtype=int64).\n",
      "Pickling array (shape=(2, 537), dtype=float64).\n",
      "Pickling array (shape=(6,), dtype=object).\n",
      "Pickling array (shape=(2,), dtype=object).\n",
      "Pickling array (shape=(6,), dtype=int64).\n",
      "Pickling array (shape=(537,), dtype=int64).\n",
      "Pickling array (shape=(537,), dtype=int64).\n",
      "Pickling array (shape=(537,), dtype=int64).\n",
      "Pickling array (shape=(358,), dtype=int64).\n",
      "Pickling array (shape=(179,), dtype=int64).\n",
      "Pickling array (shape=(358,), dtype=int64).\n",
      "Pickling array (shape=(179,), dtype=int64).\n",
      "[Parallel(n_jobs=-1)]: Done  62 tasks      | elapsed:    1.4s\n",
      "Pickling array (shape=(8,), dtype=object).\n",
      "Pickling array (shape=(537,), dtype=int64).\n",
      "Pickling array (shape=(6, 537), dtype=int64).\n",
      "Pickling array (shape=(2, 537), dtype=float64).\n",
      "Pickling array (shape=(6,), dtype=object).\n",
      "Pickling array (shape=(2,), dtype=object).\n",
      "Pickling array (shape=(6,), dtype=int64).\n",
      "Pickling array (shape=(537,), dtype=int64).\n",
      "Pickling array (shape=(537,), dtype=int64).\n",
      "Pickling array (shape=(537,), dtype=int64).\n",
      "Pickling array (shape=(358,), dtype=int64).\n",
      "Pickling array (shape=(179,), dtype=int64).\n",
      "Pickling array (shape=(358,), dtype=int64).\n",
      "Pickling array (shape=(179,), dtype=int64).\n",
      "[Parallel(n_jobs=-1)]: Done  64 tasks      | elapsed:    1.4s\n",
      "Pickling array (shape=(8,), dtype=object).\n",
      "Pickling array (shape=(537,), dtype=int64).\n",
      "Pickling array (shape=(6, 537), dtype=int64).\n",
      "Pickling array (shape=(2, 537), dtype=float64).\n",
      "Pickling array (shape=(6,), dtype=object).\n",
      "Pickling array (shape=(2,), dtype=object).\n",
      "Pickling array (shape=(6,), dtype=int64).\n",
      "Pickling array (shape=(537,), dtype=int64).\n",
      "Pickling array (shape=(537,), dtype=int64).[Parallel(n_jobs=-1)]: Done  66 tasks      | elapsed:    1.4s\n",
      "\n",
      "Pickling array (shape=(537,), dtype=int64).\n",
      "Pickling array (shape=(358,), dtype=int64).\n",
      "Pickling array (shape=(179,), dtype=int64).\n",
      "Pickling array (shape=(358,), dtype=int64).\n",
      "Pickling array (shape=(179,), dtype=int64).\n",
      "Pickling array (shape=(8,), dtype=object).\n",
      "Pickling array (shape=(537,), dtype=int64).\n",
      "Pickling array (shape=(6, 537), dtype=int64).\n",
      "Pickling array (shape=(2, 537), dtype=float64).\n",
      "Pickling array (shape=(6,), dtype=object).\n",
      "Pickling array (shape=(2,), dtype=object).\n",
      "Pickling array (shape=(6,), dtype=int64).\n",
      "Pickling array (shape=(537,), dtype=int64).\n",
      "Pickling array (shape=(537,), dtype=int64).\n",
      "Pickling array (shape=(537,), dtype=int64).\n",
      "Pickling array (shape=(358,), dtype=int64).\n",
      "Pickling array (shape=(179,), dtype=int64).\n",
      "Pickling array (shape=(358,), dtype=int64).\n",
      "Pickling array (shape=(179,), dtype=int64).\n",
      "[Parallel(n_jobs=-1)]: Done  68 tasks      | elapsed:    1.5s\n",
      "Pickling array (shape=(8,), dtype=object).\n",
      "Pickling array (shape=(537,), dtype=int64).\n",
      "Pickling array (shape=(6, 537), dtype=int64).\n",
      "Pickling array (shape=(2, 537), dtype=float64).\n",
      "Pickling array (shape=(6,), dtype=object).\n",
      "Pickling array (shape=(2,), dtype=object).\n",
      "Pickling array (shape=(6,), dtype=int64).\n",
      "Pickling array (shape=(537,), dtype=int64).\n",
      "Pickling array (shape=(537,), dtype=int64).\n",
      "Pickling array (shape=(537,), dtype=int64).\n",
      "Pickling array (shape=(358,), dtype=int64).\n",
      "Pickling array (shape=(179,), dtype=int64).\n",
      "Pickling array (shape=(358,), dtype=int64).\n",
      "Pickling array (shape=(179,), dtype=int64).\n",
      "Pickling array (shape=(8,), dtype=object).\n",
      "[Parallel(n_jobs=-1)]: Done  70 tasks      | elapsed:    1.5s\n",
      "Pickling array (shape=(537,), dtype=int64).\n",
      "Pickling array (shape=(6, 537), dtype=int64).\n",
      "Pickling array (shape=(2, 537), dtype=float64).\n",
      "Pickling array (shape=(6,), dtype=object).\n",
      "Pickling array (shape=(2,), dtype=object).\n",
      "Pickling array (shape=(6,), dtype=int64).\n",
      "Pickling array (shape=(537,), dtype=int64).\n",
      "Pickling array (shape=(537,), dtype=int64).\n",
      "Pickling array (shape=(537,), dtype=int64).\n",
      "Pickling array (shape=(358,), dtype=int64).\n",
      "Pickling array (shape=(179,), dtype=int64).\n",
      "Pickling array (shape=(358,), dtype=int64).\n",
      "Pickling array (shape=(179,), dtype=int64).\n",
      "Pickling array (shape=(358,), dtype=int64).\n",
      "Pickling array (shape=(179,), dtype=int64).\n",
      "[Parallel(n_jobs=-1)]: Done  72 tasks      | elapsed:    1.5s\n",
      "Pickling array (shape=(8,), dtype=object).\n",
      "Pickling array (shape=(537,), dtype=int64).\n",
      "Pickling array (shape=(6, 537), dtype=int64).\n",
      "Pickling array (shape=(2, 537), dtype=float64).\n",
      "Pickling array (shape=(6,), dtype=object).\n",
      "Pickling array (shape=(2,), dtype=object).\n",
      "Pickling array (shape=(6,), dtype=int64).\n",
      "Pickling array (shape=(537,), dtype=int64).\n",
      "Pickling array (shape=(537,), dtype=int64).\n",
      "Pickling array (shape=(537,), dtype=int64).\n",
      "Pickling array (shape=(358,), dtype=int64).\n",
      "Pickling array (shape=(179,), dtype=int64).\n",
      "Pickling array (shape=(358,), dtype=int64).\n",
      "Pickling array (shape=(179,), dtype=int64).\n",
      "Pickling array (shape=(358,), dtype=int64).\n",
      "Pickling array (shape=(179,), dtype=int64).\n",
      "Pickling array (shape=(8,), dtype=object).[Parallel(n_jobs=-1)]: Done  74 tasks      | elapsed:    1.5s\n",
      "\n",
      "Pickling array (shape=(537,), dtype=int64).\n",
      "Pickling array (shape=(6, 537), dtype=int64).\n",
      "Pickling array (shape=(2, 537), dtype=float64).\n",
      "Pickling array (shape=(6,), dtype=object).\n",
      "Pickling array (shape=(2,), dtype=object).\n",
      "Pickling array (shape=(6,), dtype=int64).\n",
      "Pickling array (shape=(537,), dtype=int64).\n",
      "Pickling array (shape=(537,), dtype=int64).\n",
      "Pickling array (shape=(537,), dtype=int64).\n",
      "Pickling array (shape=(358,), dtype=int64).\n",
      "Pickling array (shape=(179,), dtype=int64).\n",
      "Pickling array (shape=(358,), dtype=int64).\n",
      "Pickling array (shape=(179,), dtype=int64).\n",
      "Pickling array (shape=(358,), dtype=int64).\n",
      "Pickling array (shape=(179,), dtype=int64).\n",
      "Pickling array (shape=(8,), dtype=object).\n",
      "Pickling array (shape=(537,), dtype=int64).\n",
      "Pickling array (shape=(6, 537), dtype=int64).\n",
      "Pickling array (shape=(2, 537), dtype=float64).\n",
      "Pickling array (shape=(6,), dtype=object).\n",
      "Pickling array (shape=(2,), dtype=object).\n",
      "Pickling array (shape=(6,), dtype=int64).\n",
      "Pickling array (shape=(537,), dtype=int64).\n",
      "Pickling array (shape=(537,), dtype=int64).\n",
      "Pickling array (shape=(537,), dtype=int64).\n",
      "Pickling array (shape=(358,), dtype=int64).\n",
      "Pickling array (shape=(179,), dtype=int64).\n",
      "Pickling array (shape=(358,), dtype=int64).\n",
      "Pickling array (shape=(179,), dtype=int64).\n",
      "Pickling array (shape=(358,), dtype=int64).\n",
      "Pickling array (shape=(179,), dtype=int64).\n",
      "Pickling array (shape=(8,), dtype=object).[Parallel(n_jobs=-1)]: Done  76 tasks      | elapsed:    1.5s\n",
      "\n",
      "Pickling array (shape=(537,), dtype=int64).\n",
      "Pickling array (shape=(6, 537), dtype=int64).\n",
      "Pickling array (shape=(2, 537), dtype=float64).\n",
      "Pickling array (shape=(6,), dtype=object).\n",
      "Pickling array (shape=(2,), dtype=object).\n",
      "Pickling array (shape=(6,), dtype=int64).\n",
      "Pickling array (shape=(537,), dtype=int64).\n",
      "Pickling array (shape=(537,), dtype=int64).\n",
      "Pickling array (shape=(537,), dtype=int64).\n",
      "Pickling array (shape=(358,), dtype=int64).\n",
      "Pickling array (shape=(179,), dtype=int64).\n",
      "Pickling array (shape=(358,), dtype=int64).\n",
      "Pickling array (shape=(179,), dtype=int64).\n",
      "Pickling array (shape=(358,), dtype=int64).\n",
      "Pickling array (shape=(179,), dtype=int64).\n",
      "[Parallel(n_jobs=-1)]: Done  78 out of 117 | elapsed:    1.5s remaining:    0.8s\n",
      "Pickling array (shape=(8,), dtype=object).\n",
      "Pickling array (shape=(537,), dtype=int64).\n",
      "Pickling array (shape=(6, 537), dtype=int64).\n",
      "Pickling array (shape=(2, 537), dtype=float64).\n",
      "Pickling array (shape=(6,), dtype=object).\n",
      "Pickling array (shape=(2,), dtype=object).\n",
      "Pickling array (shape=(6,), dtype=int64).\n",
      "Pickling array (shape=(537,), dtype=int64).\n",
      "Pickling array (shape=(537,), dtype=int64).\n",
      "Pickling array (shape=(537,), dtype=int64).\n",
      "Pickling array (shape=(358,), dtype=int64).\n",
      "Pickling array (shape=(179,), dtype=int64).\n",
      "Pickling array (shape=(358,), dtype=int64).\n",
      "Pickling array (shape=(179,), dtype=int64).\n",
      "Pickling array (shape=(358,), dtype=int64).\n",
      "Pickling array (shape=(179,), dtype=int64).\n",
      "[Parallel(n_jobs=-1)]: Done  80 out of 117 | elapsed:    1.5s remaining:    0.7s\n",
      "Pickling array (shape=(8,), dtype=object).\n",
      "Pickling array (shape=(537,), dtype=int64).\n",
      "Pickling array (shape=(6, 537), dtype=int64).\n",
      "Pickling array (shape=(2, 537), dtype=float64).\n",
      "Pickling array (shape=(6,), dtype=object).\n",
      "Pickling array (shape=(2,), dtype=object).\n",
      "Pickling array (shape=(6,), dtype=int64).\n",
      "Pickling array (shape=(537,), dtype=int64).\n",
      "Pickling array (shape=(537,), dtype=int64).\n",
      "Pickling array (shape=(537,), dtype=int64).\n",
      "Pickling array (shape=(358,), dtype=int64).\n",
      "Pickling array (shape=(179,), dtype=int64).\n",
      "Pickling array (shape=(358,), dtype=int64).\n",
      "Pickling array (shape=(179,), dtype=int64).\n",
      "Pickling array (shape=(358,), dtype=int64).\n",
      "Pickling array (shape=(179,), dtype=int64).\n",
      "Pickling array (shape=(8,), dtype=object).\n",
      "Pickling array (shape=(537,), dtype=int64).\n",
      "Pickling array (shape=(6, 537), dtype=int64).\n",
      "Pickling array (shape=(2, 537), dtype=float64).\n",
      "Pickling array (shape=(6,), dtype=object).\n",
      "Pickling array (shape=(2,), dtype=object).\n",
      "Pickling array (shape=(6,), dtype=int64).\n",
      "Pickling array (shape=(537,), dtype=int64).\n",
      "Pickling array (shape=(537,), dtype=int64).\n",
      "Pickling array (shape=(537,), dtype=int64).\n",
      "Pickling array (shape=(358,), dtype=int64).\n",
      "Pickling array (shape=(179,), dtype=int64).\n",
      "Pickling array (shape=(358,), dtype=int64).\n",
      "Pickling array (shape=(179,), dtype=int64).\n",
      "Pickling array (shape=(358,), dtype=int64).\n",
      "Pickling array (shape=(179,), dtype=int64).\n",
      "Pickling array (shape=(8,), dtype=object).\n",
      "Pickling array (shape=(537,), dtype=int64).\n",
      "Pickling array (shape=(6, 537), dtype=int64).\n",
      "Pickling array (shape=(2, 537), dtype=float64).\n",
      "Pickling array (shape=(6,), dtype=object).\n",
      "Pickling array (shape=(2,), dtype=object).\n",
      "Pickling array (shape=(6,), dtype=int64).\n",
      "Pickling array (shape=(537,), dtype=int64).\n",
      "Pickling array (shape=(537,), dtype=int64).\n",
      "Pickling array (shape=(537,), dtype=int64).\n",
      "Pickling array (shape=(358,), dtype=int64).\n",
      "Pickling array (shape=(179,), dtype=int64).\n",
      "Pickling array (shape=(8,), dtype=object).\n",
      "Pickling array (shape=(537,), dtype=int64).\n",
      "Pickling array (shape=(6, 537), dtype=int64).\n",
      "Pickling array (shape=(2, 537), dtype=float64).\n",
      "Pickling array (shape=(6,), dtype=object).\n",
      "Pickling array (shape=(2,), dtype=object).\n",
      "Pickling array (shape=(6,), dtype=int64).\n",
      "Pickling array (shape=(537,), dtype=int64).\n",
      "Pickling array (shape=(537,), dtype=int64).\n",
      "Pickling array (shape=(537,), dtype=int64).\n",
      "Pickling array (shape=(358,), dtype=int64).\n",
      "Pickling array (shape=(179,), dtype=int64).\n"
     ]
    },
    {
     "name": "stdout",
     "output_type": "stream",
     "text": [
      "Pickling array (shape=(8,), dtype=object).\n",
      "Pickling array (shape=(537,), dtype=int64).\n",
      "Pickling array (shape=(6, 537), dtype=int64).\n",
      "Pickling array (shape=(2, 537), dtype=float64).\n",
      "Pickling array (shape=(6,), dtype=object).\n",
      "Pickling array (shape=(2,), dtype=object).\n",
      "Pickling array (shape=(6,), dtype=int64).\n",
      "Pickling array (shape=(537,), dtype=int64).\n",
      "Pickling array (shape=(537,), dtype=int64).\n",
      "Pickling array (shape=(537,), dtype=int64).\n",
      "Pickling array (shape=(358,), dtype=int64).\n",
      "Pickling array (shape=(179,), dtype=int64).\n",
      "[Parallel(n_jobs=-1)]: Done  84 out of 117 | elapsed:    1.6s remaining:    0.6s\n",
      "Pickling array (shape=(8,), dtype=object).\n",
      "Pickling array (shape=(537,), dtype=int64).\n",
      "Pickling array (shape=(6, 537), dtype=int64).\n",
      "Pickling array (shape=(2, 537), dtype=float64).\n",
      "Pickling array (shape=(6,), dtype=object).\n",
      "Pickling array (shape=(2,), dtype=object).\n",
      "Pickling array (shape=(6,), dtype=int64).\n",
      "Pickling array (shape=(537,), dtype=int64).\n",
      "Pickling array (shape=(537,), dtype=int64).\n",
      "Pickling array (shape=(537,), dtype=int64).\n",
      "Pickling array (shape=(358,), dtype=int64).\n",
      "Pickling array (shape=(179,), dtype=int64).\n",
      "Pickling array (shape=(8,), dtype=object).\n",
      "Pickling array (shape=(537,), dtype=int64).\n",
      "Pickling array (shape=(6, 537), dtype=int64).\n",
      "Pickling array (shape=(2, 537), dtype=float64).\n",
      "Pickling array (shape=(6,), dtype=object).\n",
      "Pickling array (shape=(2,), dtype=object).\n",
      "Pickling array (shape=(6,), dtype=int64).\n",
      "Pickling array (shape=(537,), dtype=int64).\n",
      "Pickling array (shape=(537,), dtype=int64).\n",
      "Pickling array (shape=(537,), dtype=int64).\n",
      "Pickling array (shape=(358,), dtype=int64).[Parallel(n_jobs=-1)]: Done  88 out of 117 | elapsed:    1.6s remaining:    0.5s\n",
      "[Parallel(n_jobs=-1)]: Done  92 out of 117 | elapsed:    1.6s remaining:    0.4s\n",
      "\n",
      "Pickling array (shape=(179,), dtype=int64).\n",
      "[Parallel(n_jobs=-1)]: Done 102 out of 117 | elapsed:    1.6s remaining:    0.2s\n",
      "[Parallel(n_jobs=-1)]: Done 106 out of 117 | elapsed:    1.6s remaining:    0.2s\n",
      "[Parallel(n_jobs=-1)]: Done 108 out of 117 | elapsed:    1.6s remaining:    0.1s\n",
      "[Parallel(n_jobs=-1)]: Done 117 out of 117 | elapsed:    1.6s finished\n"
     ]
    }
   ],
   "source": [
    "#TRAIN YOUR CLASSIFIER\n",
    "gs = gs.fit(X_train, y_train)"
   ]
  },
  {
   "cell_type": "code",
   "execution_count": 55,
   "metadata": {},
   "outputs": [
    {
     "name": "stdout",
     "output_type": "stream",
     "text": [
      "Best score: 0.599885 using {'n_neighbors': 7}\n",
      "Mean 0.503441 Std (0.011175) with: {'n_neighbors': 1}\n",
      "Mean 0.416544 Std (0.032890) with: {'n_neighbors': 2}\n",
      "Mean 0.523167 Std (0.053226) with: {'n_neighbors': 3}\n",
      "Mean 0.477595 Std (0.068925) with: {'n_neighbors': 4}\n",
      "Mean 0.557810 Std (0.058966) with: {'n_neighbors': 5}\n",
      "Mean 0.549743 Std (0.041694) with: {'n_neighbors': 6}\n",
      "Mean 0.599885 Std (0.044016) with: {'n_neighbors': 7}\n",
      "Mean 0.562180 Std (0.027379) with: {'n_neighbors': 8}\n",
      "Mean 0.582689 Std (0.038996) with: {'n_neighbors': 9}\n",
      "Mean 0.528314 Std (0.049196) with: {'n_neighbors': 10}\n",
      "Mean 0.571196 Std (0.063104) with: {'n_neighbors': 11}\n",
      "Mean 0.533911 Std (0.072331) with: {'n_neighbors': 12}\n",
      "Mean 0.558187 Std (0.051875) with: {'n_neighbors': 13}\n",
      "Mean 0.513482 Std (0.083722) with: {'n_neighbors': 14}\n",
      "Mean 0.545210 Std (0.078716) with: {'n_neighbors': 15}\n",
      "Mean 0.512032 Std (0.082881) with: {'n_neighbors': 16}\n",
      "Mean 0.510927 Std (0.064095) with: {'n_neighbors': 17}\n",
      "Mean 0.484862 Std (0.079813) with: {'n_neighbors': 18}\n",
      "Mean 0.525498 Std (0.077377) with: {'n_neighbors': 19}\n",
      "Mean 0.517022 Std (0.084282) with: {'n_neighbors': 20}\n",
      "Mean 0.545702 Std (0.075043) with: {'n_neighbors': 21}\n",
      "Mean 0.515934 Std (0.070024) with: {'n_neighbors': 22}\n",
      "Mean 0.528547 Std (0.079005) with: {'n_neighbors': 23}\n",
      "Mean 0.494579 Std (0.065166) with: {'n_neighbors': 24}\n",
      "Mean 0.517428 Std (0.075943) with: {'n_neighbors': 25}\n",
      "Mean 0.470468 Std (0.058164) with: {'n_neighbors': 26}\n",
      "Mean 0.523060 Std (0.087023) with: {'n_neighbors': 27}\n",
      "Mean 0.481782 Std (0.093384) with: {'n_neighbors': 28}\n",
      "Mean 0.488921 Std (0.095318) with: {'n_neighbors': 29}\n",
      "Mean 0.484118 Std (0.092804) with: {'n_neighbors': 30}\n",
      "Mean 0.530937 Std (0.096494) with: {'n_neighbors': 31}\n",
      "Mean 0.513333 Std (0.098432) with: {'n_neighbors': 32}\n",
      "Mean 0.543572 Std (0.102238) with: {'n_neighbors': 33}\n",
      "Mean 0.502147 Std (0.093031) with: {'n_neighbors': 34}\n",
      "Mean 0.531402 Std (0.087418) with: {'n_neighbors': 35}\n",
      "Mean 0.518869 Std (0.077055) with: {'n_neighbors': 36}\n",
      "Mean 0.538623 Std (0.096113) with: {'n_neighbors': 37}\n",
      "Mean 0.519664 Std (0.080264) with: {'n_neighbors': 38}\n",
      "Mean 0.535761 Std (0.086005) with: {'n_neighbors': 39}\n"
     ]
    }
   ],
   "source": [
    "#summarize the results of your GRIDSEARCH\n",
    "print(\"Best score: %f using %s\" % (gs.best_score_, gs.best_params_))\n",
    "\n",
    "means = gs.cv_results_['mean_test_score']\n",
    "stds = gs.cv_results_['std_test_score']\n",
    "params = gs.cv_results_['params']\n",
    "for mean, stdev, param in zip(means, stds, params):\n",
    "    print(\"Mean %f Std (%f) with: %r\" % (mean, stdev, param))"
   ]
  },
  {
   "cell_type": "code",
   "execution_count": 56,
   "metadata": {},
   "outputs": [
    {
     "data": {
      "image/png": "[encoded data removed]",
      "text/plain": [
       "<Figure size 432x288 with 1 Axes>"
      ]
     },
     "metadata": {
      "needs_background": "light"
     },
     "output_type": "display_data"
    },
    {
     "name": "stdout",
     "output_type": "stream",
     "text": [
      "0.5998848467508062\n"
     ]
    }
   ],
   "source": [
    "import matplotlib.pyplot as plt\n",
    "\n",
    "plt.plot (means, color='blue', alpha=1.00)\n",
    "plt.show()\n",
    "\n",
    "print(gs.best_score_)"
   ]
  },
  {
   "cell_type": "code",
   "execution_count": 57,
   "metadata": {},
   "outputs": [],
   "source": [
    "#TEST ON YOUR TEST SET \n",
    "best_model = gs.best_estimator_\n",
    "\n",
    "y_pred_train = best_model.predict(X_train)\n",
    "y_pred = best_model.predict(X_test)"
   ]
  },
  {
   "cell_type": "code",
   "execution_count": 58,
   "metadata": {},
   "outputs": [
    {
     "data": {
      "text/plain": [
       "array([0, 0, 0, 0, 0, 0, 0, 0, 0, 0, 1, 0, 1, 0, 1, 1, 0, 0, 0, 0, 1, 0,\n",
       "       1, 1, 1, 0, 0, 0, 1, 1, 0, 0, 0, 0, 0, 0, 0, 1, 1, 1, 0, 1, 0, 0,\n",
       "       1, 0, 0, 0, 0, 0, 0, 0, 1, 0, 1, 1, 0, 0, 0, 0, 1, 0, 0, 0, 1, 0,\n",
       "       1, 0, 0, 1, 0, 0, 1, 0, 1, 0, 0, 1, 0, 1, 1, 1, 0, 0, 1, 0, 0, 0,\n",
       "       0, 0, 0, 0, 0, 1, 0, 0, 0, 1, 0, 0, 0, 1, 1, 0, 1, 0, 0, 1, 1, 0,\n",
       "       0, 0, 0, 1, 1, 0, 0, 0, 1, 0, 1, 1, 0, 0, 0, 0, 0, 0, 0, 0, 0, 0,\n",
       "       0, 1, 0, 1, 0, 1, 1, 0, 0, 0, 1, 1, 0, 1, 0, 0, 1, 0, 1, 0, 0, 0,\n",
       "       1, 1, 0, 1, 0, 0, 0, 0, 0, 0, 1, 0, 0, 0, 1, 0, 1, 1, 0, 1, 0, 0,\n",
       "       1, 1, 0, 1, 1, 0, 0, 1, 0, 0, 1, 0, 0, 0, 1, 0, 0, 0, 0, 0, 0, 0,\n",
       "       0, 0, 0, 0, 0, 0, 0, 0, 1, 1, 0, 0, 1, 0, 0, 1, 1, 1, 0, 0, 0, 0,\n",
       "       0, 0, 1, 0, 0, 0, 0, 0, 0, 0, 0])"
      ]
     },
     "execution_count": 58,
     "metadata": {},
     "output_type": "execute_result"
    }
   ],
   "source": [
    "#This is your prediction on the TEST SET\n",
    "y_pred"
   ]
  },
  {
   "cell_type": "code",
   "execution_count": 59,
   "metadata": {},
   "outputs": [
    {
     "name": "stdout",
     "output_type": "stream",
     "text": [
      "***RESULTS ON TEST SET***\n",
      "precision:  0.6388888888888888\n",
      "recall:  0.5679012345679012\n",
      "f1_score:  0.6013071895424836\n",
      "accuracy:  0.7359307359307359\n"
     ]
    }
   ],
   "source": [
    "#EVALUATE YOUR PREDICTION (on the y_test that you left aside)\n",
    "from sklearn import metrics \n",
    "\n",
    "print('***RESULTS ON TEST SET***')\n",
    "print(\"precision: \", metrics.precision_score(y_test, y_pred)) # tp / (tp + fp)\n",
    "print(\"recall: \", metrics.recall_score(y_test, y_pred)) # tp / (tp + fn)\n",
    "print(\"f1_score: \", metrics.f1_score(y_test, y_pred)) #F1 = 2 * (precision * recall) / (precision + recall)\n",
    "print(\"accuracy: \", metrics.accuracy_score(y_test, y_pred)) # (tp+tn)/m\n"
   ]
  },
  {
   "cell_type": "code",
   "execution_count": 60,
   "metadata": {},
   "outputs": [
    {
     "name": "stdout",
     "output_type": "stream",
     "text": [
      "***RESULTS ON TRAIN SET***\n",
      "precision:  0.7300613496932515\n",
      "recall:  0.6363636363636364\n",
      "f1_score:  0.6799999999999999\n",
      "accuracy:  0.7914338919925512\n"
     ]
    }
   ],
   "source": [
    "y_pred_train = best_model.predict(X_train)\n",
    "\n",
    "print('***RESULTS ON TRAIN SET***')\n",
    "print(\"precision: \", metrics.precision_score(y_train, y_pred_train)) # tp / (tp + fp)\n",
    "print(\"recall: \", metrics.recall_score(y_train, y_pred_train)) # tp / (tp + fn)\n",
    "print(\"f1_score: \", metrics.f1_score(y_train, y_pred_train)) #F1 = 2 * (precision * recall) / (precision + recall)\n",
    "print(\"accuracy: \", metrics.accuracy_score(y_train, y_pred_train)) # (tp+tn)/m"
   ]
  },
  {
   "cell_type": "code",
   "execution_count": 61,
   "metadata": {},
   "outputs": [
    {
     "name": "stdout",
     "output_type": "stream",
     "text": [
      "              precision    recall  f1-score   support\n",
      "\n",
      "           0       0.78      0.83      0.80       150\n",
      "           1       0.64      0.57      0.60        81\n",
      "\n",
      "    accuracy                           0.74       231\n",
      "   macro avg       0.71      0.70      0.70       231\n",
      "weighted avg       0.73      0.74      0.73       231\n",
      "\n"
     ]
    }
   ],
   "source": [
    "#PRINT SOME FURTHER METRICS\n",
    "from sklearn.metrics import classification_report\n",
    "print(classification_report(y_test, y_pred))"
   ]
  },
  {
   "cell_type": "code",
   "execution_count": 62,
   "metadata": {},
   "outputs": [
    {
     "name": "stdout",
     "output_type": "stream",
     "text": [
      "[[124  26]\n",
      " [ 35  46]]\n"
     ]
    }
   ],
   "source": [
    "from sklearn.metrics import confusion_matrix\n",
    "print(confusion_matrix(y_test, y_pred))"
   ]
  },
  {
   "cell_type": "code",
   "execution_count": 63,
   "metadata": {},
   "outputs": [
    {
     "data": {
      "image/png": "[encoded data removed]",
      "text/plain": [
       "<Figure size 432x288 with 2 Axes>"
      ]
     },
     "metadata": {
      "needs_background": "light"
     },
     "output_type": "display_data"
    }
   ],
   "source": [
    "# Plot normalized confusion matrix\n",
    "sns.heatmap(confusion_matrix(y_test, y_pred), annot=True, fmt='d', cmap=\"Reds\"); #annot=True to annotate cells fmt: format\n"
   ]
  },
  {
   "cell_type": "code",
   "execution_count": 64,
   "metadata": {},
   "outputs": [
    {
     "data": {
      "image/png": "[encoded data removed]",
      "text/plain": [
       "<Figure size 432x288 with 1 Axes>"
      ]
     },
     "metadata": {
      "needs_background": "light"
     },
     "output_type": "display_data"
    }
   ],
   "source": [
    "score_train=[]\n",
    "score_test=[]\n",
    "\n",
    "neighbors=range(1,180,10)\n",
    "\n",
    "for i in neighbors:\n",
    "    knn = KNeighborsClassifier(n_neighbors=i)\n",
    "    knn.fit(X_train,y_train)\n",
    "    y_pred_train = knn.predict(X_train)\n",
    "    y_pred_test = knn.predict(X_test)\n",
    "    score_train.append( metrics.f1_score(y_train, y_pred_train))\n",
    "    score_test.append( metrics.f1_score(y_test, y_pred_test))\n",
    "\n",
    "\n",
    "plt.plot (neighbors,score_train, color='blue', alpha=1.00)\n",
    "plt.plot (neighbors,score_test, color='red', alpha=1.00)\n",
    "plt.show()\n"
   ]
  },
  {
   "cell_type": "markdown",
   "metadata": {},
   "source": [
    "### ROC Curve"
   ]
  },
  {
   "cell_type": "code",
   "execution_count": 65,
   "metadata": {},
   "outputs": [
    {
     "data": {
      "image/png": "[encoded data removed]",
      "text/plain": [
       "<Figure size 432x288 with 1 Axes>"
      ]
     },
     "metadata": {
      "needs_background": "light"
     },
     "output_type": "display_data"
    },
    {
     "name": "stdout",
     "output_type": "stream",
     "text": [
      "AUC: 0.81\n"
     ]
    }
   ],
   "source": [
    "model = KNeighborsClassifier(n_neighbors=36)\n",
    "model.fit(X_train, y_train)\n",
    "y_pred = model.predict(X_test)\n",
    "\n",
    "y_probs = model.predict_proba(X_test) #predict_proba gives the probabilities for the target (0 and 1 in your case) \n",
    "\n",
    "fpr, tpr, thresholds=metrics.roc_curve(y_test,  y_probs[:,1])\n",
    "\n",
    "import matplotlib.pyplot as plt\n",
    "plt.plot(fpr, tpr, label='ROC')\n",
    "plt.plot([0, 1], [0, 1], color='darkblue', linestyle='--')\n",
    "plt.xlabel('False Positive Rate')\n",
    "plt.ylabel('True Positive Rate')\n",
    "plt.title('Receiver Operating Characteristic (ROC) Curve')\n",
    "plt.legend()\n",
    "plt.show()\n",
    "\n",
    "auc = metrics.roc_auc_score(y_test, y_probs[:,1])\n",
    "print('AUC: %.2f' % auc)"
   ]
  },
  {
   "cell_type": "markdown",
   "metadata": {},
   "source": [
    "## Scaling"
   ]
  },
  {
   "cell_type": "code",
   "execution_count": 72,
   "metadata": {},
   "outputs": [
    {
     "data": {
      "text/plain": [
       "<matplotlib.axes._subplots.AxesSubplot at 0x7fa5a9c0ef90>"
      ]
     },
     "execution_count": 72,
     "metadata": {},
     "output_type": "execute_result"
    },
    {
     "data": {
      "image/png": "[encoded data removed]",
      "text/plain": [
       "<Figure size 432x288 with 1 Axes>"
      ]
     },
     "metadata": {
      "needs_background": "light"
     },
     "output_type": "display_data"
    }
   ],
   "source": [
    "# Scale data\n",
    "from sklearn.preprocessing import StandardScaler\n",
    "scaler = StandardScaler().fit(X)\n",
    "\n",
    "scaled_data = scaler.transform(X.astype(float))\n",
    "scaled_X = pd.DataFrame(scaled_data.astype(float))\n",
    "scaled_X.columns = X.columns\n",
    "\n",
    "scaled_data = scaler.transform(X_train.astype(float))\n",
    "scaled_X_train = pd.DataFrame(scaled_data.astype(float))\n",
    "scaled_X_train.columns = X_train.columns\n",
    "\n",
    "scaled_data = scaler.transform(X_test.astype(float))\n",
    "scaled_X_test = pd.DataFrame(scaled_data.astype(float))\n",
    "scaled_X_test.columns = X_test.columns\n",
    "\n",
    "scaled_X.boxplot()"
   ]
  },
  {
   "cell_type": "code",
   "execution_count": 97,
   "metadata": {},
   "outputs": [
    {
     "name": "stdout",
     "output_type": "stream",
     "text": [
      "Fitting 3 folds for each of 18 candidates, totalling 54 fits\n",
      "[Parallel(n_jobs=-1)]: Using backend LokyBackend with 8 concurrent workers.\n",
      "[Parallel(n_jobs=-1)]: Done   1 tasks      | elapsed:    0.0s\n",
      "[Parallel(n_jobs=-1)]: Batch computation too fast (0.0222s.) Setting batch_size=2.\n",
      "[Parallel(n_jobs=-1)]: Done   2 tasks      | elapsed:    0.0s\n",
      "[Parallel(n_jobs=-1)]: Done   3 tasks      | elapsed:    0.0s\n",
      "[Parallel(n_jobs=-1)]: Done   4 tasks      | elapsed:    0.0s\n",
      "[Parallel(n_jobs=-1)]: Done   5 tasks      | elapsed:    0.0s\n",
      "[Parallel(n_jobs=-1)]: Done   6 tasks      | elapsed:    0.0s\n",
      "[Parallel(n_jobs=-1)]: Done   7 tasks      | elapsed:    0.0s\n",
      "[Parallel(n_jobs=-1)]: Done   8 tasks      | elapsed:    0.0s\n",
      "[Parallel(n_jobs=-1)]: Done   9 tasks      | elapsed:    0.0s\n",
      "[Parallel(n_jobs=-1)]: Done  10 tasks      | elapsed:    0.0s\n",
      "[Parallel(n_jobs=-1)]: Done  11 tasks      | elapsed:    0.1s\n",
      "[Parallel(n_jobs=-1)]: Done  12 tasks      | elapsed:    0.1s\n",
      "[Parallel(n_jobs=-1)]: Done  13 tasks      | elapsed:    0.1s\n",
      "[Parallel(n_jobs=-1)]: Done  14 tasks      | elapsed:    0.1s\n",
      "[Parallel(n_jobs=-1)]: Done  15 tasks      | elapsed:    0.1s\n",
      "[Parallel(n_jobs=-1)]: Done  16 tasks      | elapsed:    0.1s\n",
      "[Parallel(n_jobs=-1)]: Done  18 tasks      | elapsed:    0.1s\n",
      "[Parallel(n_jobs=-1)]: Batch computation too fast (0.0509s.) Setting batch_size=4.\n",
      "[Parallel(n_jobs=-1)]: Done  20 tasks      | elapsed:    0.1s\n",
      "[Parallel(n_jobs=-1)]: Done  22 tasks      | elapsed:    0.1s\n",
      "[Parallel(n_jobs=-1)]: Done  24 tasks      | elapsed:    0.1s\n",
      "[Parallel(n_jobs=-1)]: Done  26 tasks      | elapsed:    0.1s\n",
      "[Parallel(n_jobs=-1)]: Done  28 tasks      | elapsed:    0.1s\n",
      "[Parallel(n_jobs=-1)]: Done  30 tasks      | elapsed:    0.1s\n",
      "[Parallel(n_jobs=-1)]: Done  39 out of  54 | elapsed:    0.1s remaining:    0.1s\n",
      "[Parallel(n_jobs=-1)]: Done  41 out of  54 | elapsed:    0.1s remaining:    0.0s\n",
      "[Parallel(n_jobs=-1)]: Done  49 out of  54 | elapsed:    0.1s remaining:    0.0s\n",
      "[Parallel(n_jobs=-1)]: Done  51 out of  54 | elapsed:    0.1s remaining:    0.0s\n",
      "[Parallel(n_jobs=-1)]: Done  54 out of  54 | elapsed:    0.2s finished\n",
      "Best score: 0.559111 using {'n_neighbors': 3}\n",
      "f1_score:  0.5945945945945946\n",
      "accuracy:  0.7402597402597403\n"
     ]
    },
    {
     "data": {
      "image/png": "[encoded data removed]",
      "text/plain": [
       "<Figure size 432x288 with 2 Axes>"
      ]
     },
     "metadata": {
      "needs_background": "light"
     },
     "output_type": "display_data"
    }
   ],
   "source": [
    "#DEFINE  PARAMETERS GRID\n",
    "from sklearn.neighbors import KNeighborsClassifier\n",
    "import numpy as np\n",
    "classifier = KNeighborsClassifier()\n",
    "parameters = {'n_neighbors':np.arange(2,20)}\n",
    "from sklearn.model_selection import GridSearchCV\n",
    "gs = GridSearchCV(classifier, parameters, cv=3, scoring = 'f1', verbose=50, n_jobs=-1)\n",
    "gs = gs.fit(scaled_X_train, y_train)\n",
    "\n",
    "#Prediction\n",
    "print(\"Best score: %f using %s\" % (gs.best_score_, gs.best_params_))\n",
    "best_model = gs.best_estimator_\n",
    "y_pred = best_model.predict(scaled_X_test)\n",
    "\n",
    "\n",
    "print(\"f1_score: \", metrics.f1_score(y_test, y_pred))\n",
    "print(\"accuracy: \", metrics.accuracy_score(y_test, y_pred))\n",
    "\n",
    "from sklearn.metrics import confusion_matrix\n",
    "confusion_matrix(y_test, y_pred)\n",
    "\n",
    "sns.heatmap(confusion_matrix(y_test, y_pred), annot=True, fmt='d', cmap=\"Blues\"); #annot=True to annotate cells fmt: format\n"
   ]
  },
  {
   "cell_type": "code",
   "execution_count": 98,
   "metadata": {},
   "outputs": [
    {
     "data": {
      "image/png": "[encoded data removed]",
      "text/plain": [
       "<Figure size 432x288 with 1 Axes>"
      ]
     },
     "metadata": {
      "needs_background": "light"
     },
     "output_type": "display_data"
    },
    {
     "name": "stdout",
     "output_type": "stream",
     "text": [
      "AUC: 0.75\n"
     ]
    }
   ],
   "source": [
    "model = KNeighborsClassifier(n_neighbors=3)\n",
    "model.fit(scaled_X_train, y_train)\n",
    "y_pred = model.predict(scaled_X_test)\n",
    "\n",
    "y_probs = model.predict_proba(scaled_X_test) #predict_proba gives the probabilities for the target (0 and 1 in your case) \n",
    "\n",
    "fpr, tpr, thresholds=metrics.roc_curve(y_test,  y_probs[:,1])\n",
    "\n",
    "import matplotlib.pyplot as plt\n",
    "plt.plot(fpr, tpr, label='ROC')\n",
    "plt.plot([0, 1], [0, 1], color='darkblue', linestyle='--')\n",
    "plt.xlabel('False Positive Rate')\n",
    "plt.ylabel('True Positive Rate')\n",
    "plt.title('Receiver Operating Characteristic (ROC) Curve')\n",
    "plt.legend()\n",
    "plt.show()\n",
    "\n",
    "auc = metrics.roc_auc_score(y_test, y_probs[:,1])\n",
    "print('AUC: %.2f' % auc)"
   ]
  },
  {
   "cell_type": "code",
   "execution_count": 99,
   "metadata": {},
   "outputs": [
    {
     "name": "stdout",
     "output_type": "stream",
     "text": [
      "***RESULTS ON TRAIN SET***\n",
      "precision:  0.8022598870056498\n",
      "recall:  0.7593582887700535\n",
      "f1_score:  0.7802197802197803\n",
      "accuracy:  0.851024208566108\n"
     ]
    }
   ],
   "source": [
    "y_pred_train = best_model.predict(scaled_X_train)\n",
    "\n",
    "print('***RESULTS ON TRAIN SET***')\n",
    "print(\"precision: \", metrics.precision_score(y_train, y_pred_train)) # tp / (tp + fp)\n",
    "print(\"recall: \", metrics.recall_score(y_train, y_pred_train)) # tp / (tp + fn)\n",
    "print(\"f1_score: \", metrics.f1_score(y_train, y_pred_train)) #F1 = 2 * (precision * recall) / (precision + recall)\n",
    "print(\"accuracy: \", metrics.accuracy_score(y_train, y_pred_train)) # (tp+tn)/m"
   ]
  },
  {
   "cell_type": "code",
   "execution_count": 100,
   "metadata": {},
   "outputs": [
    {
     "name": "stdout",
     "output_type": "stream",
     "text": [
      "***RESULTS ON TEST SET***\n",
      "precision:  0.6567164179104478\n",
      "recall:  0.5432098765432098\n",
      "f1_score:  0.5945945945945946\n",
      "accuracy:  0.7402597402597403\n"
     ]
    }
   ],
   "source": [
    "#EVALUATE YOUR PREDICTION (on the y_test that you left aside)\n",
    "from sklearn import metrics \n",
    "\n",
    "print('***RESULTS ON TEST SET***')\n",
    "print(\"precision: \", metrics.precision_score(y_test, y_pred)) # tp / (tp + fp)\n",
    "print(\"recall: \", metrics.recall_score(y_test, y_pred)) # tp / (tp + fn)\n",
    "print(\"f1_score: \", metrics.f1_score(y_test, y_pred)) #F1 = 2 * (precision * recall) / (precision + recall)\n",
    "print(\"accuracy: \", metrics.accuracy_score(y_test, y_pred)) # (tp+tn)/m\n"
   ]
  },
  {
   "cell_type": "code",
   "execution_count": 101,
   "metadata": {},
   "outputs": [
    {
     "data": {
      "image/png": "[encoded data removed]",
      "text/plain": [
       "<Figure size 432x288 with 1 Axes>"
      ]
     },
     "metadata": {
      "needs_background": "light"
     },
     "output_type": "display_data"
    }
   ],
   "source": [
    "score_train=[]\n",
    "score_test=[]\n",
    "\n",
    "neighbors=range(1,20,1)\n",
    "\n",
    "for i in neighbors:\n",
    "    knn = KNeighborsClassifier(n_neighbors=i)\n",
    "    knn.fit(scaled_X_train,y_train)\n",
    "    y_pred_train = knn.predict(scaled_X_train)\n",
    "    y_pred_test = knn.predict(scaled_X_test)\n",
    "    score_train.append( metrics.f1_score(y_train, y_pred_train))\n",
    "    score_test.append( metrics.f1_score(y_test, y_pred_test))\n",
    "\n",
    "\n",
    "plt.plot (neighbors,score_train, color='blue', alpha=1.00)\n",
    "plt.plot (neighbors,score_test, color='red', alpha=1.00)\n",
    "plt.show()"
   ]
  },
  {
   "cell_type": "code",
   "execution_count": 102,
   "metadata": {},
   "outputs": [
    {
     "data": {
      "image/png": "[encoded data removed]",
      "text/plain": [
       "<Figure size 432x288 with 1 Axes>"
      ]
     },
     "metadata": {
      "needs_background": "light"
     },
     "output_type": "display_data"
    },
    {
     "name": "stdout",
     "output_type": "stream",
     "text": [
      "AUC: 0.82\n"
     ]
    }
   ],
   "source": [
    "model = KNeighborsClassifier(n_neighbors=10)\n",
    "model.fit(scaled_X_train, y_train)\n",
    "y_pred = model.predict(scaled_X_test)\n",
    "\n",
    "y_probs = model.predict_proba(scaled_X_test) #predict_proba gives the probabilities for the target (0 and 1 in your case) \n",
    "\n",
    "fpr, tpr, thresholds=metrics.roc_curve(y_test,  y_probs[:,1])\n",
    "\n",
    "import matplotlib.pyplot as plt\n",
    "plt.plot(fpr, tpr, label='ROC')\n",
    "plt.plot([0, 1], [0, 1], color='darkblue', linestyle='--')\n",
    "plt.xlabel('False Positive Rate')\n",
    "plt.ylabel('True Positive Rate')\n",
    "plt.title('Receiver Operating Characteristic (ROC) Curve')\n",
    "plt.legend()\n",
    "plt.show()\n",
    "\n",
    "auc = metrics.roc_auc_score(y_test, y_probs[:,1])\n",
    "print('AUC: %.2f' % auc)"
   ]
  },
  {
   "cell_type": "markdown",
   "metadata": {},
   "source": [
    "## Apply PCA"
   ]
  },
  {
   "cell_type": "code",
   "execution_count": 103,
   "metadata": {},
   "outputs": [],
   "source": [
    "#PCA fit\n",
    "from sklearn.decomposition import PCA\n",
    "pca = PCA()\n",
    "pca.fit(scaled_X)\n",
    "df_pca = pd.DataFrame(pca.transform(scaled_X))"
   ]
  },
  {
   "cell_type": "code",
   "execution_count": 104,
   "metadata": {},
   "outputs": [
    {
     "data": {
      "image/png": "[encoded data removed]",
      "text/plain": [
       "<Figure size 432x288 with 1 Axes>"
      ]
     },
     "metadata": {
      "needs_background": "light"
     },
     "output_type": "display_data"
    }
   ],
   "source": [
    "explained_variance=pd.DataFrame(pca.explained_variance_ratio_)\n",
    "%matplotlib inline\n",
    "import seaborn as sns\n",
    "ax = sns.barplot( data=explained_variance.transpose())"
   ]
  },
  {
   "cell_type": "code",
   "execution_count": 105,
   "metadata": {},
   "outputs": [
    {
     "data": {
      "text/html": [
       "<div>\n",
       "<style scoped>\n",
       "    .dataframe tbody tr th:only-of-type {\n",
       "        vertical-align: middle;\n",
       "    }\n",
       "\n",
       "    .dataframe tbody tr th {\n",
       "        vertical-align: top;\n",
       "    }\n",
       "\n",
       "    .dataframe thead th {\n",
       "        text-align: right;\n",
       "    }\n",
       "</style>\n",
       "<table border=\"1\" class=\"dataframe\">\n",
       "  <thead>\n",
       "    <tr style=\"text-align: right;\">\n",
       "      <th></th>\n",
       "      <th>timespreg</th>\n",
       "      <th>gluctol</th>\n",
       "      <th>diaspb</th>\n",
       "      <th>triceps</th>\n",
       "      <th>insulin</th>\n",
       "      <th>massindex</th>\n",
       "      <th>pedigree</th>\n",
       "      <th>age</th>\n",
       "    </tr>\n",
       "  </thead>\n",
       "  <tbody>\n",
       "    <tr>\n",
       "      <th>0</th>\n",
       "      <td>0.128432</td>\n",
       "      <td>0.393083</td>\n",
       "      <td>0.360003</td>\n",
       "      <td>0.439824</td>\n",
       "      <td>0.435026</td>\n",
       "      <td>0.451941</td>\n",
       "      <td>0.270611</td>\n",
       "      <td>0.198027</td>\n",
       "    </tr>\n",
       "    <tr>\n",
       "      <th>1</th>\n",
       "      <td>0.593786</td>\n",
       "      <td>0.174029</td>\n",
       "      <td>0.183892</td>\n",
       "      <td>-0.331965</td>\n",
       "      <td>-0.250781</td>\n",
       "      <td>-0.100960</td>\n",
       "      <td>-0.122069</td>\n",
       "      <td>0.620589</td>\n",
       "    </tr>\n",
       "    <tr>\n",
       "      <th>2</th>\n",
       "      <td>-0.013087</td>\n",
       "      <td>0.467923</td>\n",
       "      <td>-0.535494</td>\n",
       "      <td>-0.237674</td>\n",
       "      <td>0.336709</td>\n",
       "      <td>-0.361865</td>\n",
       "      <td>0.433189</td>\n",
       "      <td>0.075248</td>\n",
       "    </tr>\n",
       "    <tr>\n",
       "      <th>3</th>\n",
       "      <td>0.080691</td>\n",
       "      <td>-0.404329</td>\n",
       "      <td>0.055986</td>\n",
       "      <td>0.037976</td>\n",
       "      <td>-0.349944</td>\n",
       "      <td>0.053646</td>\n",
       "      <td>0.833680</td>\n",
       "      <td>0.071201</td>\n",
       "    </tr>\n",
       "    <tr>\n",
       "      <th>4</th>\n",
       "      <td>-0.475606</td>\n",
       "      <td>0.466328</td>\n",
       "      <td>0.327953</td>\n",
       "      <td>-0.487862</td>\n",
       "      <td>-0.346935</td>\n",
       "      <td>0.253204</td>\n",
       "      <td>0.119810</td>\n",
       "      <td>-0.109290</td>\n",
       "    </tr>\n",
       "    <tr>\n",
       "      <th>5</th>\n",
       "      <td>0.193598</td>\n",
       "      <td>0.094162</td>\n",
       "      <td>-0.634116</td>\n",
       "      <td>0.009589</td>\n",
       "      <td>-0.270651</td>\n",
       "      <td>0.685372</td>\n",
       "      <td>-0.085784</td>\n",
       "      <td>-0.033357</td>\n",
       "    </tr>\n",
       "    <tr>\n",
       "      <th>6</th>\n",
       "      <td>-0.588790</td>\n",
       "      <td>-0.060153</td>\n",
       "      <td>-0.192118</td>\n",
       "      <td>0.282213</td>\n",
       "      <td>-0.132010</td>\n",
       "      <td>-0.035366</td>\n",
       "      <td>-0.086091</td>\n",
       "      <td>0.712085</td>\n",
       "    </tr>\n",
       "    <tr>\n",
       "      <th>7</th>\n",
       "      <td>0.117841</td>\n",
       "      <td>0.450355</td>\n",
       "      <td>-0.011296</td>\n",
       "      <td>0.566284</td>\n",
       "      <td>-0.548621</td>\n",
       "      <td>-0.341518</td>\n",
       "      <td>-0.008259</td>\n",
       "      <td>-0.211662</td>\n",
       "    </tr>\n",
       "  </tbody>\n",
       "</table>\n",
       "</div>"
      ],
      "text/plain": [
       "   timespreg   gluctol    diaspb   triceps   insulin  massindex  pedigree  \\\n",
       "0   0.128432  0.393083  0.360003  0.439824  0.435026   0.451941  0.270611   \n",
       "1   0.593786  0.174029  0.183892 -0.331965 -0.250781  -0.100960 -0.122069   \n",
       "2  -0.013087  0.467923 -0.535494 -0.237674  0.336709  -0.361865  0.433189   \n",
       "3   0.080691 -0.404329  0.055986  0.037976 -0.349944   0.053646  0.833680   \n",
       "4  -0.475606  0.466328  0.327953 -0.487862 -0.346935   0.253204  0.119810   \n",
       "5   0.193598  0.094162 -0.634116  0.009589 -0.270651   0.685372 -0.085784   \n",
       "6  -0.588790 -0.060153 -0.192118  0.282213 -0.132010  -0.035366 -0.086091   \n",
       "7   0.117841  0.450355 -0.011296  0.566284 -0.548621  -0.341518 -0.008259   \n",
       "\n",
       "        age  \n",
       "0  0.198027  \n",
       "1  0.620589  \n",
       "2  0.075248  \n",
       "3  0.071201  \n",
       "4 -0.109290  \n",
       "5 -0.033357  \n",
       "6  0.712085  \n",
       "7 -0.211662  "
      ]
     },
     "execution_count": 105,
     "metadata": {},
     "output_type": "execute_result"
    }
   ],
   "source": [
    "pd.DataFrame(pca.components_,columns=X.columns)"
   ]
  },
  {
   "cell_type": "code",
   "execution_count": 106,
   "metadata": {},
   "outputs": [],
   "source": [
    "X_pca = pd.DataFrame(data = pca.transform(scaled_X)\n",
    "             ,columns = ['pc1', 'pc2','pc3','pc4','pc5', 'pc6','pc7','pc8'])\n",
    "\n",
    "X_train_pca = pd.DataFrame(data = pca.transform(scaled_X_train)\n",
    "             ,columns = ['pc1', 'pc2','pc3','pc4','pc5', 'pc6','pc7','pc8'])\n",
    "\n",
    "X_test_pca = pd.DataFrame(data = pca.transform(scaled_X_test)\n",
    "             ,columns = ['pc1', 'pc2','pc3','pc4','pc5', 'pc6','pc7','pc8'])\n"
   ]
  },
  {
   "cell_type": "code",
   "execution_count": 107,
   "metadata": {},
   "outputs": [
    {
     "data": {
      "image/png": "[encoded data removed]",
      "text/plain": [
       "<Figure size 432x288 with 1 Axes>"
      ]
     },
     "metadata": {
      "needs_background": "light"
     },
     "output_type": "display_data"
    }
   ],
   "source": [
    "import matplotlib.pyplot as plt\n",
    "\n",
    "x = X_train_pca.iloc[:,0]\n",
    "y = X_train_pca.iloc[:,1]\n",
    "\n",
    "plt.scatter(x, y,alpha=0.2,c=y_train )\n",
    "plt.show()"
   ]
  },
  {
   "cell_type": "code",
   "execution_count": 108,
   "metadata": {},
   "outputs": [
    {
     "data": {
      "image/png": "[encoded data removed]",
      "text/plain": [
       "<Figure size 432x288 with 1 Axes>"
      ]
     },
     "metadata": {
      "needs_background": "light"
     },
     "output_type": "display_data"
    }
   ],
   "source": [
    "import matplotlib.pyplot as plt\n",
    "\n",
    "x = X_test_pca.iloc[:,0]\n",
    "y = X_test_pca.iloc[:,1]\n",
    "\n",
    "plt.scatter(x, y,alpha=0.2,c=y_test )\n",
    "plt.show()"
   ]
  },
  {
   "cell_type": "code",
   "execution_count": 109,
   "metadata": {},
   "outputs": [
    {
     "name": "stdout",
     "output_type": "stream",
     "text": [
      "Fitting 5 folds for each of 19 candidates, totalling 95 fits\n",
      "[Parallel(n_jobs=-1)]: Using backend LokyBackend with 8 concurrent workers.\n",
      "[Parallel(n_jobs=-1)]: Done   1 tasks      | elapsed:    0.0s\n",
      "[Parallel(n_jobs=-1)]: Batch computation too fast (0.0113s.) Setting batch_size=2.\n",
      "[Parallel(n_jobs=-1)]: Done   2 tasks      | elapsed:    0.0s\n",
      "[Parallel(n_jobs=-1)]: Done   3 tasks      | elapsed:    0.0s\n",
      "[Parallel(n_jobs=-1)]: Done   4 tasks      | elapsed:    0.0s\n",
      "[Parallel(n_jobs=-1)]: Done   5 tasks      | elapsed:    0.0s\n",
      "[Parallel(n_jobs=-1)]: Done   6 tasks      | elapsed:    0.0s\n",
      "[Parallel(n_jobs=-1)]: Done   7 tasks      | elapsed:    0.0s\n",
      "[Parallel(n_jobs=-1)]: Done   8 tasks      | elapsed:    0.0s\n",
      "[Parallel(n_jobs=-1)]: Done   9 tasks      | elapsed:    0.0s\n",
      "[Parallel(n_jobs=-1)]: Done  10 tasks      | elapsed:    0.1s\n",
      "[Parallel(n_jobs=-1)]: Done  11 tasks      | elapsed:    0.1s\n",
      "[Parallel(n_jobs=-1)]: Done  12 tasks      | elapsed:    0.1s\n",
      "[Parallel(n_jobs=-1)]: Done  13 tasks      | elapsed:    0.1s\n",
      "[Parallel(n_jobs=-1)]: Done  14 tasks      | elapsed:    0.1s\n",
      "[Parallel(n_jobs=-1)]: Done  15 tasks      | elapsed:    0.1s\n",
      "[Parallel(n_jobs=-1)]: Done  16 tasks      | elapsed:    0.1s\n",
      "[Parallel(n_jobs=-1)]: Done  18 tasks      | elapsed:    0.1s\n",
      "[Parallel(n_jobs=-1)]: Batch computation too fast (0.0322s.) Setting batch_size=4.\n",
      "[Parallel(n_jobs=-1)]: Done  20 tasks      | elapsed:    0.1s\n",
      "[Parallel(n_jobs=-1)]: Done  22 tasks      | elapsed:    0.1s\n",
      "[Parallel(n_jobs=-1)]: Done  24 tasks      | elapsed:    0.1s\n",
      "[Parallel(n_jobs=-1)]: Done  26 tasks      | elapsed:    0.1s\n",
      "[Parallel(n_jobs=-1)]: Done  28 tasks      | elapsed:    0.1s\n",
      "[Parallel(n_jobs=-1)]: Done  30 tasks      | elapsed:    0.1s\n",
      "[Parallel(n_jobs=-1)]: Done  32 tasks      | elapsed:    0.1s\n",
      "[Parallel(n_jobs=-1)]: Done  34 tasks      | elapsed:    0.1s\n",
      "[Parallel(n_jobs=-1)]: Done  36 tasks      | elapsed:    0.1s\n",
      "[Parallel(n_jobs=-1)]: Done  38 tasks      | elapsed:    0.1s\n",
      "[Parallel(n_jobs=-1)]: Done  40 tasks      | elapsed:    0.1s\n",
      "[Parallel(n_jobs=-1)]: Done  42 tasks      | elapsed:    0.1s\n",
      "[Parallel(n_jobs=-1)]: Done  44 tasks      | elapsed:    0.1s\n",
      "[Parallel(n_jobs=-1)]: Done  46 tasks      | elapsed:    0.1s\n",
      "[Parallel(n_jobs=-1)]: Done  48 tasks      | elapsed:    0.1s\n",
      "[Parallel(n_jobs=-1)]: Done  52 tasks      | elapsed:    0.1s\n",
      "[Parallel(n_jobs=-1)]: Batch computation too fast (0.0847s.) Setting batch_size=8.\n",
      "[Parallel(n_jobs=-1)]: Done  56 tasks      | elapsed:    0.1s\n",
      "[Parallel(n_jobs=-1)]: Done  60 tasks      | elapsed:    0.1s\n",
      "[Parallel(n_jobs=-1)]: Done  64 tasks      | elapsed:    0.2s\n",
      "[Parallel(n_jobs=-1)]: Done  65 tasks      | elapsed:    0.2s\n",
      "[Parallel(n_jobs=-1)]: Done  66 tasks      | elapsed:    0.2s\n",
      "[Parallel(n_jobs=-1)]: Done  70 tasks      | elapsed:    0.2s\n",
      "[Parallel(n_jobs=-1)]: Done  71 tasks      | elapsed:    0.2s\n",
      "[Parallel(n_jobs=-1)]: Done  72 out of  95 | elapsed:    0.2s remaining:    0.1s\n",
      "[Parallel(n_jobs=-1)]: Done  74 out of  95 | elapsed:    0.2s remaining:    0.1s\n",
      "[Parallel(n_jobs=-1)]: Done  78 out of  95 | elapsed:    0.2s remaining:    0.0s\n",
      "[Parallel(n_jobs=-1)]: Done  80 out of  95 | elapsed:    0.2s remaining:    0.0s\n",
      "[Parallel(n_jobs=-1)]: Done  82 out of  95 | elapsed:    0.2s remaining:    0.0s\n",
      "[Parallel(n_jobs=-1)]: Done  88 out of  95 | elapsed:    0.2s remaining:    0.0s\n",
      "[Parallel(n_jobs=-1)]: Done  92 out of  95 | elapsed:    0.2s remaining:    0.0s\n",
      "[Parallel(n_jobs=-1)]: Done  95 out of  95 | elapsed:    0.2s finished\n",
      "Best score: 0.506387 using {'n_neighbors': 7}\n",
      "f1_score:  0.54421768707483\n",
      "accuracy:  0.70995670995671\n",
      "[[124  26]\n",
      " [ 41  40]]\n"
     ]
    },
    {
     "data": {
      "image/png": "[encoded data removed]",
      "text/plain": [
       "<Figure size 432x288 with 2 Axes>"
      ]
     },
     "metadata": {
      "needs_background": "light"
     },
     "output_type": "display_data"
    }
   ],
   "source": [
    "#DEFINE  PARAMETERS GRID\n",
    "from sklearn.neighbors import KNeighborsClassifier\n",
    "import numpy as np\n",
    "classifier = KNeighborsClassifier()\n",
    "parameters = {'n_neighbors':np.arange(1,20)}\n",
    "from sklearn.model_selection import GridSearchCV\n",
    "gs = GridSearchCV(classifier, parameters, cv=5, scoring = 'f1', verbose=50, n_jobs=-1)\n",
    "# We use just the two first PC\n",
    "gs = gs.fit(X_train_pca.iloc[:,:2], y_train) \n",
    "\n",
    "#Prediction\n",
    "print(\"Best score: %f using %s\" % (gs.best_score_, gs.best_params_))\n",
    "best_model = gs.best_estimator_\n",
    "y_pred = best_model.predict(X_test_pca.iloc[:,:2])\n",
    "\n",
    "print(\"f1_score: \", metrics.f1_score(y_test, y_pred))\n",
    "print(\"accuracy: \", metrics.accuracy_score(y_test, y_pred))\n",
    "\n",
    "from sklearn.metrics import confusion_matrix\n",
    "\n",
    "print(confusion_matrix(y_test, y_pred))\n",
    "\n",
    "sns.heatmap(confusion_matrix(y_test, y_pred), annot=True, fmt='d', cmap=\"Blues\"); #annot=True to annotate cells fmt: format\n"
   ]
  },
  {
   "cell_type": "code",
   "execution_count": 110,
   "metadata": {},
   "outputs": [
    {
     "data": {
      "image/png": "[encoded data removed]",
      "text/plain": [
       "<Figure size 432x288 with 1 Axes>"
      ]
     },
     "metadata": {
      "needs_background": "light"
     },
     "output_type": "display_data"
    },
    {
     "name": "stdout",
     "output_type": "stream",
     "text": [
      "AUC: 0.80\n"
     ]
    }
   ],
   "source": [
    "#Using the three first PC\n",
    "X_train_pca_2=X_train_pca.iloc[:,:3]\n",
    "X_test_pca_2=X_test_pca.iloc[:,:3]\n",
    "\n",
    "model = KNeighborsClassifier(n_neighbors=7)\n",
    "model.fit(X_train_pca_2, y_train)\n",
    "y_pred = model.predict(X_test_pca_2)\n",
    "\n",
    "y_probs = model.predict_proba(X_test_pca_2) #predict_proba gives the probabilities for the target (0 and 1 in your case) \n",
    "\n",
    "fpr, tpr, thresholds=metrics.roc_curve(y_test,  y_probs[:,1])\n",
    "\n",
    "import matplotlib.pyplot as plt\n",
    "plt.plot(fpr, tpr, label='ROC')\n",
    "plt.plot([0, 1], [0, 1], color='darkblue', linestyle='--')\n",
    "plt.xlabel('False Positive Rate')\n",
    "plt.ylabel('True Positive Rate')\n",
    "plt.title('Receiver Operating Characteristic (ROC) Curve')\n",
    "plt.legend()\n",
    "plt.show()\n",
    "\n",
    "auc = metrics.roc_auc_score(y_test, y_probs[:,1])\n",
    "print('AUC: %.2f' % auc)"
   ]
  },
  {
   "cell_type": "code",
   "execution_count": 114,
   "metadata": {},
   "outputs": [
    {
     "data": {
      "image/png": "[encoded data removed]",
      "text/plain": [
       "<Figure size 432x288 with 1 Axes>"
      ]
     },
     "metadata": {
      "needs_background": "light"
     },
     "output_type": "display_data"
    },
    {
     "name": "stdout",
     "output_type": "stream",
     "text": [
      "AUC: 0.82\n"
     ]
    }
   ],
   "source": [
    "# and with all PC\n",
    "\n",
    "model = KNeighborsClassifier(n_neighbors=7)\n",
    "model.fit(X_train_pca, y_train)\n",
    "y_pred = model.predict(X_test_pca)\n",
    "\n",
    "y_probs = model.predict_proba(X_test_pca) #predict_proba gives the probabilities for the target (0 and 1 in your case) \n",
    "\n",
    "fpr, tpr, thresholds=metrics.roc_curve(y_test,  y_probs[:,1])\n",
    "\n",
    "import matplotlib.pyplot as plt\n",
    "plt.plot(fpr, tpr, label='ROC')\n",
    "plt.plot([0, 1], [0, 1], color='darkblue', linestyle='--')\n",
    "plt.xlabel('False Positive Rate')\n",
    "plt.ylabel('True Positive Rate')\n",
    "plt.title('Receiver Operating Characteristic (ROC) Curve')\n",
    "plt.legend()\n",
    "plt.show()\n",
    "\n",
    "auc = metrics.roc_auc_score(y_test, y_probs[:,1])\n",
    "print('AUC: %.2f' % auc)"
   ]
  },
  {
   "cell_type": "code",
   "execution_count": null,
   "metadata": {},
   "outputs": [],
   "source": []
  },
  {
   "cell_type": "code",
   "execution_count": null,
   "metadata": {},
   "outputs": [],
   "source": []
  },
  {
   "cell_type": "code",
   "execution_count": null,
   "metadata": {},
   "outputs": [],
   "source": []
  },
  {
   "cell_type": "code",
   "execution_count": null,
   "metadata": {},
   "outputs": [],
   "source": []
  }
 ],
 "metadata": {
  "kernelspec": {
   "display_name": "Python 3",
   "language": "python",
   "name": "python3"
  },
  "language_info": {
   "codemirror_mode": {
    "name": "ipython",
    "version": 3
   },
   "file_extension": ".py",
   "mimetype": "text/x-python",
   "name": "python",
   "nbconvert_exporter": "python",
   "pygments_lexer": "ipython3",
   "version": "3.7.6"
  }
 },
 "nbformat": 4,
 "nbformat_minor": 2
}
